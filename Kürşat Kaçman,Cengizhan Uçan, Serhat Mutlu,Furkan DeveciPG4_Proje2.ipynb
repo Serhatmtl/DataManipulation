{
  "cells": [
    {
      "cell_type": "markdown",
      "metadata": {
        "id": "PxUxnHgJQz_g"
      },
      "source": [
        "Veri Setinin içeriye aktarılması ve kullanılacak kütüphaneleri etkinleştirme"
      ]
    },
    {
      "cell_type": "code",
      "execution_count": 2,
      "metadata": {
        "id": "1nRsKbFfQ98E"
      },
      "outputs": [],
      "source": [
        "import matplotlib.pyplot as plt\n",
        "import seaborn as sns\n",
        "import pandas as pd\n",
        "import plotly.express as px\n",
        "data = pd.read_csv('NetflixOriginals.csv', encoding='ISO-8859-1')"
      ]
    },
    {
      "cell_type": "markdown",
      "metadata": {
        "id": "F3wJw81yP_RQ"
      },
      "source": [
        "1-Veri setinin sınıflandırılması"
      ]
    },
    {
      "cell_type": "code",
      "execution_count": 3,
      "metadata": {
        "id": "roHCJG_sQnSa"
      },
      "outputs": [],
      "source": [
        "data['Title'] = data['Title'].convert_dtypes()\n",
        "data['Genre'] = data['Genre'].convert_dtypes()\n",
        "data['Language'] = data['Language'].convert_dtypes()\n",
        "data['Runtime'] = pd.to_numeric(data['Runtime'])\n",
        "data['Premiere'] = pd.to_datetime(data['Premiere'])\n",
        "data['Premiere Year'] = data['Premiere'].dt.year"
      ]
    },
    {
      "cell_type": "markdown",
      "metadata": {
        "id": "woKkXEsvQtCh"
      },
      "source": [
        "2- Veri setine göre uzun soluklu filmler hangi dilde oluşturulmuştur? Görselleştirme yapınız."
      ]
    },
    {
      "cell_type": "code",
      "execution_count": 4,
      "metadata": {
        "colab": {
          "base_uri": "https://localhost:8080/"
        },
        "id": "yerJxrWbQyTy",
        "outputId": "79d18af0-9f48-4282-9283-7b2ebeec477a"
      },
      "outputs": [
        {
          "data": {
            "text/html": [
              "<div>\n",
              "<style scoped>\n",
              "    .dataframe tbody tr th:only-of-type {\n",
              "        vertical-align: middle;\n",
              "    }\n",
              "\n",
              "    .dataframe tbody tr th {\n",
              "        vertical-align: top;\n",
              "    }\n",
              "\n",
              "    .dataframe thead th {\n",
              "        text-align: right;\n",
              "    }\n",
              "</style>\n",
              "<table border=\"1\" class=\"dataframe\">\n",
              "  <thead>\n",
              "    <tr style=\"text-align: right;\">\n",
              "      <th></th>\n",
              "      <th>count</th>\n",
              "      <th>mean</th>\n",
              "      <th>std</th>\n",
              "      <th>min</th>\n",
              "      <th>25%</th>\n",
              "      <th>50%</th>\n",
              "      <th>75%</th>\n",
              "      <th>max</th>\n",
              "    </tr>\n",
              "  </thead>\n",
              "  <tbody>\n",
              "    <tr>\n",
              "      <th>Runtime</th>\n",
              "      <td>584.0</td>\n",
              "      <td>93.577055</td>\n",
              "      <td>27.761683</td>\n",
              "      <td>4.0</td>\n",
              "      <td>86.0</td>\n",
              "      <td>97.00</td>\n",
              "      <td>108.0</td>\n",
              "      <td>209.0</td>\n",
              "    </tr>\n",
              "    <tr>\n",
              "      <th>IMDB Score</th>\n",
              "      <td>584.0</td>\n",
              "      <td>6.271747</td>\n",
              "      <td>0.979256</td>\n",
              "      <td>2.5</td>\n",
              "      <td>5.7</td>\n",
              "      <td>6.35</td>\n",
              "      <td>7.0</td>\n",
              "      <td>9.0</td>\n",
              "    </tr>\n",
              "    <tr>\n",
              "      <th>Premiere Year</th>\n",
              "      <td>584.0</td>\n",
              "      <td>2018.936644</td>\n",
              "      <td>1.473992</td>\n",
              "      <td>2014.0</td>\n",
              "      <td>2018.0</td>\n",
              "      <td>2019.00</td>\n",
              "      <td>2020.0</td>\n",
              "      <td>2021.0</td>\n",
              "    </tr>\n",
              "  </tbody>\n",
              "</table>\n",
              "</div>"
            ],
            "text/plain": [
              "               count         mean        std     min     25%      50%     75%  \\\n",
              "Runtime        584.0    93.577055  27.761683     4.0    86.0    97.00   108.0   \n",
              "IMDB Score     584.0     6.271747   0.979256     2.5     5.7     6.35     7.0   \n",
              "Premiere Year  584.0  2018.936644   1.473992  2014.0  2018.0  2019.00  2020.0   \n",
              "\n",
              "                  max  \n",
              "Runtime         209.0  \n",
              "IMDB Score        9.0  \n",
              "Premiere Year  2021.0  "
            ]
          },
          "execution_count": 4,
          "metadata": {},
          "output_type": "execute_result"
        }
      ],
      "source": [
        "data.describe().T"
      ]
    },
    {
      "cell_type": "code",
      "execution_count": 5,
      "metadata": {
        "id": "7hvJSDpHRca3"
      },
      "outputs": [],
      "source": [
        "long_run = data[data['Runtime'] > 97]['Runtime']\n",
        "long_run_lang = data[data['Runtime'] > 97]['Language']"
      ]
    },
    {
      "cell_type": "code",
      "execution_count": 6,
      "metadata": {
        "colab": {
          "base_uri": "https://localhost:8080/"
        },
        "id": "-DJcYaSjRnFT",
        "outputId": "0647b49f-aa59-44af-c4a3-d036652c1b84"
      },
      "outputs": [
        {
          "data": {
            "image/png": "[encoded data removed]",
            "text/plain": [
              "<Figure size 720x720 with 1 Axes>"
            ]
          },
          "metadata": {
            "needs_background": "light"
          },
          "output_type": "display_data"
        }
      ],
      "source": [
        "fig = plt.figure(figsize = (10, 10))\n",
        "\n",
        "plt.barh(long_run_lang, long_run)\n",
        "plt.title('Longest Runtime & Languages')\n",
        "plt.grid()\n",
        "plt.show()"
      ]
    },
    {
      "cell_type": "markdown",
      "metadata": {
        "id": "9_7s-zJjRpCV"
      },
      "source": [
        "3- 2019 Ocak ile 2020 Haziran tarihleri arasında 'Documentary' türünde çekilmiş filmlerin IMDB değerlerini bulup görselleştiriniz."
      ]
    },
    {
      "cell_type": "code",
      "execution_count": 7,
      "metadata": {
        "id": "ybL-oLVMRtMx"
      },
      "outputs": [],
      "source": [
        "doc = data[ (data['Premiere'] > '2019-01-01') & (data['Premiere'] <'2020-06-30') & (data['Genre'] == 'Documentary') ]\n",
        "film_listesi = doc['Title'].tolist()\n",
        "puan = doc['IMDB Score'].tolist()"
      ]
    },
    {
      "cell_type": "code",
      "execution_count": 8,
      "metadata": {
        "colab": {
          "base_uri": "https://localhost:8080/",
          "height": 893
        },
        "id": "vPMALC_KRx1Y",
        "outputId": "4e9fba22-ad9f-4690-baf9-6ffa9cf5414e"
      },
      "outputs": [
        {
          "data": {
            "image/png": "[encoded data removed]",
            "text/plain": [
              "<Figure size 1440x1080 with 1 Axes>"
            ]
          },
          "metadata": {
            "needs_background": "light"
          },
          "output_type": "display_data"
        }
      ],
      "source": [
        "fig = plt.figure(figsize = (20, 15))\n",
        "\n",
        "plt.barh(film_listesi, puan)\n",
        "plt.xlabel(\"IMDB Puanı\")\n",
        "plt.ylabel('Yapımın İsmi')\n",
        "plt.title(\"2019-2020 Arası Filmlerin IMDB Puanları\")\n",
        "plt.grid()\n",
        "plt.show()"
      ]
    },
    {
      "cell_type": "markdown",
      "metadata": {
        "id": "XUdIYi3LR7rg"
      },
      "source": [
        "4-İngilizce çekilen filmler içerisinde hangi tür en yüksek IMDB puanına sahiptir?\n"
      ]
    },
    {
      "cell_type": "code",
      "execution_count": 9,
      "metadata": {
        "colab": {
          "base_uri": "https://localhost:8080/",
          "height": 81
        },
        "id": "tgEDixU1SBjw",
        "outputId": "7238bddd-8192-4971-cd63-45bb93c75cae"
      },
      "outputs": [
        {
          "data": {
            "text/html": [
              "<div>\n",
              "<style scoped>\n",
              "    .dataframe tbody tr th:only-of-type {\n",
              "        vertical-align: middle;\n",
              "    }\n",
              "\n",
              "    .dataframe tbody tr th {\n",
              "        vertical-align: top;\n",
              "    }\n",
              "\n",
              "    .dataframe thead th {\n",
              "        text-align: right;\n",
              "    }\n",
              "</style>\n",
              "<table border=\"1\" class=\"dataframe\">\n",
              "  <thead>\n",
              "    <tr style=\"text-align: right;\">\n",
              "      <th></th>\n",
              "      <th>Title</th>\n",
              "      <th>Genre</th>\n",
              "      <th>Premiere</th>\n",
              "      <th>Runtime</th>\n",
              "      <th>IMDB Score</th>\n",
              "      <th>Language</th>\n",
              "      <th>Premiere Year</th>\n",
              "    </tr>\n",
              "  </thead>\n",
              "  <tbody>\n",
              "    <tr>\n",
              "      <th>1</th>\n",
              "      <td>David Attenborough: A Life on Our Planet</td>\n",
              "      <td>Documentary</td>\n",
              "      <td>2020-10-04</td>\n",
              "      <td>83</td>\n",
              "      <td>9.0</td>\n",
              "      <td>English</td>\n",
              "      <td>2020</td>\n",
              "    </tr>\n",
              "  </tbody>\n",
              "</table>\n",
              "</div>"
            ],
            "text/plain": [
              "                                      Title        Genre   Premiere  Runtime  \\\n",
              "1  David Attenborough: A Life on Our Planet  Documentary 2020-10-04       83   \n",
              "\n",
              "   IMDB Score Language  Premiere Year  \n",
              "1         9.0  English           2020  "
            ]
          },
          "execution_count": 9,
          "metadata": {},
          "output_type": "execute_result"
        }
      ],
      "source": [
        "ingilizceler = data[data['Language'] == 'English']\n",
        "best_ing = ingilizceler.sort_values(by=['IMDB Score'], ascending=False).head()\n",
        "score = data['IMDB Score']\n",
        "best_ing.reset_index(drop=True)\n",
        "best_ing.index = range(1, len(best_ing) + 1)\n",
        "best_ing.head(1)"
      ]
    },
    {
      "cell_type": "markdown",
      "metadata": {
        "id": "HzMtFqvrSU3f"
      },
      "source": [
        "5- 'Hindi' Dilinde çekilmiş olan filmlerin ortalama 'runtime' suresi nedir?"
      ]
    },
    {
      "cell_type": "code",
      "execution_count": 10,
      "metadata": {
        "colab": {
          "base_uri": "https://localhost:8080/"
        },
        "id": "Fejl0A0rSVY_",
        "outputId": "cc78fab6-4f59-49c0-c928-65c807378307"
      },
      "outputs": [
        {
          "data": {
            "text/plain": [
              "115.78787878787878"
            ]
          },
          "execution_count": 10,
          "metadata": {},
          "output_type": "execute_result"
        }
      ],
      "source": [
        "hindi_mean = data[data['Language']=='Hindi' ]['Runtime']\n",
        "data[data['Language'] == 'Hindi']['Runtime'].mean()"
      ]
    },
    {
      "cell_type": "markdown",
      "metadata": {
        "id": "FReaXJq5SbxS"
      },
      "source": [
        "6-'Genre' Sütunu kaç kategoriye sahiptir ve bu kategoriler nelerdir? Görselleştirerek ifade ediniz."
      ]
    },
    {
      "cell_type": "code",
      "execution_count": 11,
      "metadata": {
        "colab": {
          "base_uri": "https://localhost:8080/"
        },
        "id": "IKW8ZM1mSfEi",
        "outputId": "5d0b9243-c7de-4bbf-8540-99fc3e735069"
      },
      "outputs": [
        {
          "data": {
            "image/png": "[encoded data removed]",
            "text/plain": [
              "<Figure size 2160x720 with 1 Axes>"
            ]
          },
          "metadata": {
            "needs_background": "light"
          },
          "output_type": "display_data"
        }
      ],
      "source": [
        "#what are the genre types? visualize the distribution of genres\n",
        "fig = plt.figure(figsize = (30, 10))\n",
        "genre_types = data['Genre'].value_counts()\n",
        "genre_types.head(40).plot(kind='bar')\n",
        "plt.grid()\n",
        "plt.show()"
      ]
    },
    {
      "cell_type": "markdown",
      "metadata": {
        "id": "iI2UO3LTSlxp"
      },
      "source": [
        "7- Veri setinde bulunan filmlerde en çok kullanılan 3 dili bulunuz"
      ]
    },
    {
      "cell_type": "code",
      "execution_count": 12,
      "metadata": {
        "colab": {
          "base_uri": "https://localhost:8080/"
        },
        "id": "_l6KPNL1Snn_",
        "outputId": "ca941139-867f-40f9-99c3-ad3afcb3c930"
      },
      "outputs": [
        {
          "data": {
            "text/plain": [
              "<AxesSubplot:>"
            ]
          },
          "execution_count": 12,
          "metadata": {},
          "output_type": "execute_result"
        },
        {
          "data": {
            "image/png": "[encoded data removed]",
            "text/plain": [
              "<Figure size 432x288 with 1 Axes>"
            ]
          },
          "metadata": {
            "needs_background": "light"
          },
          "output_type": "display_data"
        }
      ],
      "source": [
        "lang_frequency = data['Language'].value_counts()\n",
        "lang_frequency.head(3)\n",
        "lang_frequency.head(3).plot(kind='bar')"
      ]
    },
    {
      "cell_type": "markdown",
      "metadata": {
        "id": "XOcpR_fWSqG3"
      },
      "source": [
        "8-IMDB puanı en yüksek olan ilk 10 film hangileridir?"
      ]
    },
    {
      "cell_type": "code",
      "execution_count": 13,
      "metadata": {
        "colab": {
          "base_uri": "https://localhost:8080/",
          "height": 363
        },
        "id": "QFHvaKT7SxXy",
        "outputId": "815a6bc3-a46c-4de3-ed35-9ea21ca4983d"
      },
      "outputs": [
        {
          "data": {
            "text/html": [
              "<div>\n",
              "<style scoped>\n",
              "    .dataframe tbody tr th:only-of-type {\n",
              "        vertical-align: middle;\n",
              "    }\n",
              "\n",
              "    .dataframe tbody tr th {\n",
              "        vertical-align: top;\n",
              "    }\n",
              "\n",
              "    .dataframe thead th {\n",
              "        text-align: right;\n",
              "    }\n",
              "</style>\n",
              "<table border=\"1\" class=\"dataframe\">\n",
              "  <thead>\n",
              "    <tr style=\"text-align: right;\">\n",
              "      <th></th>\n",
              "      <th>Title</th>\n",
              "      <th>IMDB Score</th>\n",
              "    </tr>\n",
              "  </thead>\n",
              "  <tbody>\n",
              "    <tr>\n",
              "      <th>1</th>\n",
              "      <td>David Attenborough: A Life on Our Planet</td>\n",
              "      <td>9.0</td>\n",
              "    </tr>\n",
              "    <tr>\n",
              "      <th>2</th>\n",
              "      <td>Emicida: AmarElo - It's All For Yesterday</td>\n",
              "      <td>8.6</td>\n",
              "    </tr>\n",
              "    <tr>\n",
              "      <th>3</th>\n",
              "      <td>Springsteen on Broadway</td>\n",
              "      <td>8.5</td>\n",
              "    </tr>\n",
              "    <tr>\n",
              "      <th>4</th>\n",
              "      <td>Winter on Fire: Ukraine's Fight for Freedom</td>\n",
              "      <td>8.4</td>\n",
              "    </tr>\n",
              "    <tr>\n",
              "      <th>5</th>\n",
              "      <td>Taylor Swift: Reputation Stadium Tour</td>\n",
              "      <td>8.4</td>\n",
              "    </tr>\n",
              "    <tr>\n",
              "      <th>6</th>\n",
              "      <td>Ben Platt: Live from Radio City Music Hall</td>\n",
              "      <td>8.4</td>\n",
              "    </tr>\n",
              "    <tr>\n",
              "      <th>7</th>\n",
              "      <td>Dancing with the Birds</td>\n",
              "      <td>8.3</td>\n",
              "    </tr>\n",
              "    <tr>\n",
              "      <th>8</th>\n",
              "      <td>Cuba and the Cameraman</td>\n",
              "      <td>8.3</td>\n",
              "    </tr>\n",
              "    <tr>\n",
              "      <th>9</th>\n",
              "      <td>Klaus</td>\n",
              "      <td>8.2</td>\n",
              "    </tr>\n",
              "    <tr>\n",
              "      <th>10</th>\n",
              "      <td>13th</td>\n",
              "      <td>8.2</td>\n",
              "    </tr>\n",
              "  </tbody>\n",
              "</table>\n",
              "</div>"
            ],
            "text/plain": [
              "                                          Title  IMDB Score\n",
              "1      David Attenborough: A Life on Our Planet         9.0\n",
              "2     Emicida: AmarElo - It's All For Yesterday         8.6\n",
              "3                       Springsteen on Broadway         8.5\n",
              "4   Winter on Fire: Ukraine's Fight for Freedom         8.4\n",
              "5         Taylor Swift: Reputation Stadium Tour         8.4\n",
              "6    Ben Platt: Live from Radio City Music Hall         8.4\n",
              "7                        Dancing with the Birds         8.3\n",
              "8                       Cuba and the Cameraman          8.3\n",
              "9                                         Klaus         8.2\n",
              "10                                         13th         8.2"
            ]
          },
          "execution_count": 13,
          "metadata": {},
          "output_type": "execute_result"
        }
      ],
      "source": [
        "ilk_on_film = data.sort_values(by=['IMDB Score'], ascending=False)[['Title', 'IMDB Score']].head(10)\n",
        "ilk_on_film.reset_index(drop=True)\n",
        "ilk_on_film.index = range(1, len(ilk_on_film) + 1)\n",
        "ilk_on_film.head(10)"
      ]
    },
    {
      "cell_type": "markdown",
      "metadata": {
        "id": "KZEq5ziMTJMY"
      },
      "source": [
        "9-  IMDB puanı ile 'Runtime' arasında nasıl bir korelasyon vardır? İnceleyip görselleştiriniz."
      ]
    },
    {
      "cell_type": "code",
      "execution_count": 14,
      "metadata": {
        "colab": {
          "base_uri": "https://localhost:8080/",
          "height": 568
        },
        "id": "NSNC_CCrTNVQ",
        "outputId": "171f5434-d7b0-48b1-b835-924b67b879da"
      },
      "outputs": [
        {
          "data": {
            "text/plain": [
              "Text(0, 0.5, 'Film Süresi')"
            ]
          },
          "execution_count": 14,
          "metadata": {},
          "output_type": "execute_result"
        },
        {
          "data": {
            "image/png": "[encoded data removed]",
            "text/plain": [
              "<Figure size 1152x648 with 1 Axes>"
            ]
          },
          "metadata": {
            "needs_background": "light"
          },
          "output_type": "display_data"
        }
      ],
      "source": [
        "fig = plt.figure(figsize = (16, 9))\n",
        "\n",
        "puan = data[\"IMDB Score\"]\n",
        "time = data['Runtime']\n",
        "\n",
        "plt.scatter(puan, time)\n",
        "plt.xlabel('IMDB Puanı')\n",
        "plt.ylabel('Film Süresi')"
      ]
    },
    {
      "cell_type": "markdown",
      "metadata": {
        "id": "DhGikyW_TRKC"
      },
      "source": [
        "10- IMDB Puanı en yüksek olan ilk 10 'Genre' hangileridir? Görselleştiriniz."
      ]
    },
    {
      "cell_type": "code",
      "execution_count": 15,
      "metadata": {
        "colab": {
          "base_uri": "https://localhost:8080/",
          "height": 394
        },
        "id": "P1-KRfJATTf3",
        "outputId": "3791220f-7b95-4a97-d66a-87626927e2b1"
      },
      "outputs": [
        {
          "data": {
            "text/html": [
              "<div>\n",
              "<style scoped>\n",
              "    .dataframe tbody tr th:only-of-type {\n",
              "        vertical-align: middle;\n",
              "    }\n",
              "\n",
              "    .dataframe tbody tr th {\n",
              "        vertical-align: top;\n",
              "    }\n",
              "\n",
              "    .dataframe thead th {\n",
              "        text-align: right;\n",
              "    }\n",
              "</style>\n",
              "<table border=\"1\" class=\"dataframe\">\n",
              "  <thead>\n",
              "    <tr style=\"text-align: right;\">\n",
              "      <th></th>\n",
              "      <th>IMDB Score</th>\n",
              "    </tr>\n",
              "    <tr>\n",
              "      <th>Genre</th>\n",
              "      <th></th>\n",
              "    </tr>\n",
              "  </thead>\n",
              "  <tbody>\n",
              "    <tr>\n",
              "      <th>Documentary</th>\n",
              "      <td>9.0</td>\n",
              "    </tr>\n",
              "    <tr>\n",
              "      <th>One-man show</th>\n",
              "      <td>8.5</td>\n",
              "    </tr>\n",
              "    <tr>\n",
              "      <th>Concert Film</th>\n",
              "      <td>8.4</td>\n",
              "    </tr>\n",
              "    <tr>\n",
              "      <th>Animation/Christmas/Comedy/Adventure</th>\n",
              "      <td>8.2</td>\n",
              "    </tr>\n",
              "    <tr>\n",
              "      <th>Drama</th>\n",
              "      <td>7.9</td>\n",
              "    </tr>\n",
              "    <tr>\n",
              "      <th>Animation / Short</th>\n",
              "      <td>7.8</td>\n",
              "    </tr>\n",
              "    <tr>\n",
              "      <th>Crime drama</th>\n",
              "      <td>7.8</td>\n",
              "    </tr>\n",
              "    <tr>\n",
              "      <th>Musical / Short</th>\n",
              "      <td>7.7</td>\n",
              "    </tr>\n",
              "    <tr>\n",
              "      <th>Making-of</th>\n",
              "      <td>7.7</td>\n",
              "    </tr>\n",
              "    <tr>\n",
              "      <th>War drama</th>\n",
              "      <td>7.7</td>\n",
              "    </tr>\n",
              "  </tbody>\n",
              "</table>\n",
              "</div>"
            ],
            "text/plain": [
              "                                      IMDB Score\n",
              "Genre                                           \n",
              "Documentary                                  9.0\n",
              "One-man show                                 8.5\n",
              "Concert Film                                 8.4\n",
              "Animation/Christmas/Comedy/Adventure         8.2\n",
              "Drama                                        7.9\n",
              "Animation / Short                            7.8\n",
              "Crime drama                                  7.8\n",
              "Musical / Short                              7.7\n",
              "Making-of                                    7.7\n",
              "War drama                                    7.7"
            ]
          },
          "execution_count": 15,
          "metadata": {},
          "output_type": "execute_result"
        }
      ],
      "source": [
        "genre_points = data.groupby('Genre').agg({'IMDB Score': 'max'}).sort_values(by='IMDB Score', ascending=False).head(10)\n",
        "genre_list = []\n",
        "genre_list.extend(data['Genre'].tolist())\n",
        "genre_points.head(10)"
      ]
    },
    {
      "cell_type": "markdown",
      "metadata": {
        "id": "5xgPCB3STvAj"
      },
      "source": [
        "11- Runtime' değeri en yüksek olan ilk 10 film hangileridir? Görselleştiriniz."
      ]
    },
    {
      "cell_type": "code",
      "execution_count": 16,
      "metadata": {
        "colab": {
          "base_uri": "https://localhost:8080/",
          "height": 295
        },
        "id": "zq1HEbHqTyXz",
        "outputId": "19e913d2-f296-4da5-cb60-139fa15cac84"
      },
      "outputs": [
        {
          "data": {
            "image/png": "[encoded data removed]",
            "text/plain": [
              "<Figure size 432x288 with 1 Axes>"
            ]
          },
          "metadata": {
            "needs_background": "light"
          },
          "output_type": "display_data"
        }
      ],
      "source": [
        "ilk_on_runtime = data.sort_values(by=['Runtime'], ascending=False)[['Title','Runtime']].head(10)\n",
        "ilk_on_runtime.head(10)\n",
        "plt.barh(ilk_on_runtime['Title'], ilk_on_runtime['Runtime'])\n",
        "plt.xlabel('RunTime')\n",
        "plt.ylabel('Film İsmi')\n",
        "plt.title('İlk 10 Film')\n",
        "plt.grid()\n",
        "plt.show()"
      ]
    },
    {
      "cell_type": "markdown",
      "metadata": {
        "id": "erwo6TP_UFyg"
      },
      "source": [
        "12- Hangi yılda en fazla film yayımlanmıştır? Görselleştiriniz"
      ]
    },
    {
      "cell_type": "code",
      "execution_count": 17,
      "metadata": {
        "colab": {
          "base_uri": "https://localhost:8080/"
        },
        "id": "tVK2UnL4UI62",
        "outputId": "032867d6-fcb0-4ea3-dc03-a6484f3578b3"
      },
      "outputs": [
        {
          "data": {
            "text/plain": [
              "Title                                             Genre             Premiere    Runtime  IMDB Score  Language      Premiere Year\n",
              "A Very Murray Christmas                           Comedy / Musical  2015-12-04  56       5.5         English       2015             1\n",
              "Beasts of No Nation                               War drama         2015-10-16  136      7.7         English/Akan  2015             1\n",
              "Hot Girls Wanted                                  Documentary       2015-05-29  84       6.1         English       2015             1\n",
              "Keith Richards: Under the Influence               Documentary       2015-09-18  81       7.1         English       2015             1\n",
              "The Other One: The Long Strange Trip of Bob Weir  Documentary       2015-05-22  83       7.3         English       2015             1\n",
              "dtype: int64"
            ]
          },
          "execution_count": 17,
          "metadata": {},
          "output_type": "execute_result"
        }
      ],
      "source": [
        "doc = data[ (data['Premiere'] > '2015-01-01') & (data['Premiere'] <'2016-01-01')].value_counts()\n",
        "doc.head()"
      ]
    },
    {
      "cell_type": "markdown",
      "metadata": {
        "id": "KLt7M7adUOQZ"
      },
      "source": [
        "13- Hangi dilde yayımlanan filmler en düşük ortalama IMBD puanına sahiptir? Görselleştiriniz."
      ]
    },
    {
      "cell_type": "code",
      "execution_count": 18,
      "metadata": {
        "colab": {
          "base_uri": "https://localhost:8080/",
          "height": 206
        },
        "id": "8dofA9UpUPs2",
        "outputId": "687b2257-980f-4086-cabe-c14b8b88d40f"
      },
      "outputs": [
        {
          "data": {
            "text/html": [
              "<div>\n",
              "<style scoped>\n",
              "    .dataframe tbody tr th:only-of-type {\n",
              "        vertical-align: middle;\n",
              "    }\n",
              "\n",
              "    .dataframe tbody tr th {\n",
              "        vertical-align: top;\n",
              "    }\n",
              "\n",
              "    .dataframe thead th {\n",
              "        text-align: right;\n",
              "    }\n",
              "</style>\n",
              "<table border=\"1\" class=\"dataframe\">\n",
              "  <thead>\n",
              "    <tr style=\"text-align: right;\">\n",
              "      <th></th>\n",
              "      <th>Title</th>\n",
              "      <th>Language</th>\n",
              "      <th>IMDB Score</th>\n",
              "    </tr>\n",
              "  </thead>\n",
              "  <tbody>\n",
              "    <tr>\n",
              "      <th>0</th>\n",
              "      <td>Enter the Anime</td>\n",
              "      <td>English/Japanese</td>\n",
              "      <td>2.5</td>\n",
              "    </tr>\n",
              "    <tr>\n",
              "      <th>1</th>\n",
              "      <td>Dark Forces</td>\n",
              "      <td>Spanish</td>\n",
              "      <td>2.6</td>\n",
              "    </tr>\n",
              "    <tr>\n",
              "      <th>2</th>\n",
              "      <td>The App</td>\n",
              "      <td>Italian</td>\n",
              "      <td>2.6</td>\n",
              "    </tr>\n",
              "    <tr>\n",
              "      <th>3</th>\n",
              "      <td>The Open House</td>\n",
              "      <td>English</td>\n",
              "      <td>3.2</td>\n",
              "    </tr>\n",
              "    <tr>\n",
              "      <th>4</th>\n",
              "      <td>Kaali Khuhi</td>\n",
              "      <td>Hindi</td>\n",
              "      <td>3.4</td>\n",
              "    </tr>\n",
              "  </tbody>\n",
              "</table>\n",
              "</div>"
            ],
            "text/plain": [
              "             Title          Language  IMDB Score\n",
              "0  Enter the Anime  English/Japanese         2.5\n",
              "1      Dark Forces           Spanish         2.6\n",
              "2          The App           Italian         2.6\n",
              "3   The Open House           English         3.2\n",
              "4      Kaali Khuhi             Hindi         3.4"
            ]
          },
          "execution_count": 18,
          "metadata": {},
          "output_type": "execute_result"
        }
      ],
      "source": [
        "en_dusuk_imbd = data.sort_values(by=['IMDB Score'], ascending=True)[['Title', 'Language' ,'IMDB Score']].head()\n",
        "en_dusuk_imbd.head()\n"
      ]
    },
    {
      "cell_type": "markdown",
      "metadata": {
        "id": "oPGUlaI7US3S"
      },
      "source": [
        "14- Hangi yılın toplam \"runtime\" süresi en fazladır"
      ]
    },
    {
      "cell_type": "code",
      "execution_count": 19,
      "metadata": {},
      "outputs": [
        {
          "data": {
            "text/html": [
              "<div>\n",
              "<style scoped>\n",
              "    .dataframe tbody tr th:only-of-type {\n",
              "        vertical-align: middle;\n",
              "    }\n",
              "\n",
              "    .dataframe tbody tr th {\n",
              "        vertical-align: top;\n",
              "    }\n",
              "\n",
              "    .dataframe thead th {\n",
              "        text-align: right;\n",
              "    }\n",
              "</style>\n",
              "<table border=\"1\" class=\"dataframe\">\n",
              "  <thead>\n",
              "    <tr style=\"text-align: right;\">\n",
              "      <th></th>\n",
              "      <th>Runtime</th>\n",
              "    </tr>\n",
              "    <tr>\n",
              "      <th>Premiere Year</th>\n",
              "      <th></th>\n",
              "    </tr>\n",
              "  </thead>\n",
              "  <tbody>\n",
              "    <tr>\n",
              "      <th>2020</th>\n",
              "      <td>17384</td>\n",
              "    </tr>\n",
              "    <tr>\n",
              "      <th>2019</th>\n",
              "      <td>10856</td>\n",
              "    </tr>\n",
              "    <tr>\n",
              "      <th>2018</th>\n",
              "      <td>9405</td>\n",
              "    </tr>\n",
              "    <tr>\n",
              "      <th>2021</th>\n",
              "      <td>7214</td>\n",
              "    </tr>\n",
              "    <tr>\n",
              "      <th>2017</th>\n",
              "      <td>6129</td>\n",
              "    </tr>\n",
              "    <tr>\n",
              "      <th>2016</th>\n",
              "      <td>2766</td>\n",
              "    </tr>\n",
              "    <tr>\n",
              "      <th>2015</th>\n",
              "      <td>814</td>\n",
              "    </tr>\n",
              "    <tr>\n",
              "      <th>2014</th>\n",
              "      <td>81</td>\n",
              "    </tr>\n",
              "  </tbody>\n",
              "</table>\n",
              "</div>"
            ],
            "text/plain": [
              "               Runtime\n",
              "Premiere Year         \n",
              "2020             17384\n",
              "2019             10856\n",
              "2018              9405\n",
              "2021              7214\n",
              "2017              6129\n",
              "2016              2766\n",
              "2015               814\n",
              "2014                81"
            ]
          },
          "execution_count": 19,
          "metadata": {},
          "output_type": "execute_result"
        }
      ],
      "source": [
        "data.groupby('Premiere Year').agg({'Runtime':'sum'}).sort_values(by='Runtime', ascending=False)\n"
      ]
    },
    {
      "cell_type": "markdown",
      "metadata": {},
      "source": [
        "15- Her bir dilin en fazla kullanıldığı \"Genre\" nedir?"
      ]
    },
    {
      "cell_type": "code",
      "execution_count": 43,
      "metadata": {},
      "outputs": [
        {
          "name": "stdout",
          "output_type": "stream",
          "text": [
            "English/Japanese\n",
            "Documentary    1\n",
            "Name: Genre, dtype: Int64\n",
            "Spanish\n",
            "Documentary    8\n",
            "Name: Genre, dtype: Int64\n",
            "Italian\n",
            "Drama    4\n",
            "Name: Genre, dtype: Int64\n",
            "English\n",
            "Documentary    120\n",
            "Name: Genre, dtype: Int64\n",
            "Hindi\n",
            "Drama    13\n",
            "Name: Genre, dtype: Int64\n",
            "Hindi\n",
            "Drama    13\n",
            "Name: Genre, dtype: Int64\n",
            "Turkish\n",
            "Comedy    2\n",
            "Name: Genre, dtype: Int64\n",
            "English\n",
            "Documentary    120\n",
            "Name: Genre, dtype: Int64\n",
            "English\n",
            "Documentary    120\n",
            "Name: Genre, dtype: Int64\n",
            "Hindi\n",
            "Drama    13\n",
            "Name: Genre, dtype: Int64\n",
            "English\n",
            "Documentary    120\n",
            "Name: Genre, dtype: Int64\n",
            "Korean\n",
            "Drama    2\n",
            "Name: Genre, dtype: Int64\n",
            "Indonesian\n",
            "Drama    3\n",
            "Name: Genre, dtype: Int64\n",
            "Malay\n",
            "Action comedy    1\n",
            "Name: Genre, dtype: Int64\n",
            "English\n",
            "Documentary    120\n",
            "Name: Genre, dtype: Int64\n",
            "Spanish\n",
            "Documentary    8\n",
            "Name: Genre, dtype: Int64\n",
            "Hindi\n",
            "Drama    13\n",
            "Name: Genre, dtype: Int64\n",
            "English\n",
            "Documentary    120\n",
            "Name: Genre, dtype: Int64\n",
            "Korean\n",
            "Drama    2\n",
            "Name: Genre, dtype: Int64\n",
            "English\n",
            "Documentary    120\n",
            "Name: Genre, dtype: Int64\n",
            "English\n",
            "Documentary    120\n",
            "Name: Genre, dtype: Int64\n",
            "English\n",
            "Documentary    120\n",
            "Name: Genre, dtype: Int64\n",
            "English\n",
            "Documentary    120\n",
            "Name: Genre, dtype: Int64\n",
            "Hindi\n",
            "Drama    13\n",
            "Name: Genre, dtype: Int64\n",
            "English\n",
            "Documentary    120\n",
            "Name: Genre, dtype: Int64\n",
            "English\n",
            "Documentary    120\n",
            "Name: Genre, dtype: Int64\n",
            "Dutch\n",
            "Romantic comedy    1\n",
            "Name: Genre, dtype: Int64\n",
            "English\n",
            "Documentary    120\n",
            "Name: Genre, dtype: Int64\n",
            "French\n",
            "Documentary    6\n",
            "Name: Genre, dtype: Int64\n",
            "Italian\n",
            "Drama    4\n",
            "Name: Genre, dtype: Int64\n",
            "English/Spanish\n",
            "Documentary    5\n",
            "Name: Genre, dtype: Int64\n",
            "English\n",
            "Documentary    120\n",
            "Name: Genre, dtype: Int64\n",
            "French\n",
            "Documentary    6\n",
            "Name: Genre, dtype: Int64\n",
            "Portuguese\n",
            "Comedy    6\n",
            "Name: Genre, dtype: Int64\n",
            "English\n",
            "Documentary    120\n",
            "Name: Genre, dtype: Int64\n",
            "Italian\n",
            "Drama    4\n",
            "Name: Genre, dtype: Int64\n",
            "French\n",
            "Documentary    6\n",
            "Name: Genre, dtype: Int64\n",
            "Filipino\n",
            "Drama    1\n",
            "Name: Genre, dtype: Int64\n"
          ]
        }
      ],
      "source": [
        "i=0\n",
        "while i < data['Language'].value_counts().count():\n",
        "  print(data['Language'][i])\n",
        "  en_movies = data[data['Language'] == data['Language'][i]]\n",
        "  print(en_movies['Genre'].value_counts().head(1))\n",
        "  i+=1"
      ]
    },
    {
      "cell_type": "markdown",
      "metadata": {},
      "source": [
        "16- Veri setinde outlier veri var mıdır? Açıklayınız."
      ]
    },
    {
      "cell_type": "code",
      "execution_count": 21,
      "metadata": {},
      "outputs": [
        {
          "data": {
            "text/html": [
              "<div>\n",
              "<style scoped>\n",
              "    .dataframe tbody tr th:only-of-type {\n",
              "        vertical-align: middle;\n",
              "    }\n",
              "\n",
              "    .dataframe tbody tr th {\n",
              "        vertical-align: top;\n",
              "    }\n",
              "\n",
              "    .dataframe thead th {\n",
              "        text-align: right;\n",
              "    }\n",
              "</style>\n",
              "<table border=\"1\" class=\"dataframe\">\n",
              "  <thead>\n",
              "    <tr style=\"text-align: right;\">\n",
              "      <th></th>\n",
              "      <th>Runtime</th>\n",
              "      <th>IMDB Score</th>\n",
              "      <th>Premiere Year</th>\n",
              "    </tr>\n",
              "  </thead>\n",
              "  <tbody>\n",
              "    <tr>\n",
              "      <th>count</th>\n",
              "      <td>584.000000</td>\n",
              "      <td>584.000000</td>\n",
              "      <td>584.000000</td>\n",
              "    </tr>\n",
              "    <tr>\n",
              "      <th>mean</th>\n",
              "      <td>93.577055</td>\n",
              "      <td>6.271747</td>\n",
              "      <td>2018.936644</td>\n",
              "    </tr>\n",
              "    <tr>\n",
              "      <th>std</th>\n",
              "      <td>27.761683</td>\n",
              "      <td>0.979256</td>\n",
              "      <td>1.473992</td>\n",
              "    </tr>\n",
              "    <tr>\n",
              "      <th>min</th>\n",
              "      <td>4.000000</td>\n",
              "      <td>2.500000</td>\n",
              "      <td>2014.000000</td>\n",
              "    </tr>\n",
              "    <tr>\n",
              "      <th>25%</th>\n",
              "      <td>86.000000</td>\n",
              "      <td>5.700000</td>\n",
              "      <td>2018.000000</td>\n",
              "    </tr>\n",
              "    <tr>\n",
              "      <th>50%</th>\n",
              "      <td>97.000000</td>\n",
              "      <td>6.350000</td>\n",
              "      <td>2019.000000</td>\n",
              "    </tr>\n",
              "    <tr>\n",
              "      <th>75%</th>\n",
              "      <td>108.000000</td>\n",
              "      <td>7.000000</td>\n",
              "      <td>2020.000000</td>\n",
              "    </tr>\n",
              "    <tr>\n",
              "      <th>max</th>\n",
              "      <td>209.000000</td>\n",
              "      <td>9.000000</td>\n",
              "      <td>2021.000000</td>\n",
              "    </tr>\n",
              "  </tbody>\n",
              "</table>\n",
              "</div>"
            ],
            "text/plain": [
              "          Runtime  IMDB Score  Premiere Year\n",
              "count  584.000000  584.000000     584.000000\n",
              "mean    93.577055    6.271747    2018.936644\n",
              "std     27.761683    0.979256       1.473992\n",
              "min      4.000000    2.500000    2014.000000\n",
              "25%     86.000000    5.700000    2018.000000\n",
              "50%     97.000000    6.350000    2019.000000\n",
              "75%    108.000000    7.000000    2020.000000\n",
              "max    209.000000    9.000000    2021.000000"
            ]
          },
          "execution_count": 21,
          "metadata": {},
          "output_type": "execute_result"
        }
      ],
      "source": [
        "data.describe()"
      ]
    },
    {
      "cell_type": "code",
      "execution_count": 22,
      "metadata": {},
      "outputs": [
        {
          "data": {
            "application/vnd.plotly.v1+json": {
              "config": {
                "plotlyServerURL": "https://plot.ly"
              },
              "data": [
                {
                  "alignmentgroup": "True",
                  "bingroup": "x",
                  "hovertemplate": "Runtime=%{x}<br>count=%{y}<extra></extra>",
                  "legendgroup": "",
                  "marker": {
                    "color": "#636efa",
                    "pattern": {
                      "shape": ""
                    }
                  },
                  "name": "",
                  "offsetgroup": "",
                  "orientation": "v",
                  "showlegend": false,
                  "type": "histogram",
                  "x": [
                    58,
                    81,
                    79,
                    94,
                    90,
                    147,
                    112,
                    149,
                    73,
                    139,
                    58,
                    112,
                    97,
                    101,
                    90,
                    25,
                    144,
                    115,
                    102,
                    100,
                    64,
                    97,
                    99,
                    120,
                    105,
                    89,
                    97,
                    107,
                    99,
                    95,
                    37,
                    89,
                    83,
                    46,
                    85,
                    88,
                    86,
                    105,
                    95,
                    80,
                    4,
                    93,
                    100,
                    106,
                    97,
                    106,
                    103,
                    80,
                    101,
                    119,
                    80,
                    89,
                    94,
                    93,
                    96,
                    113,
                    86,
                    100,
                    102,
                    86,
                    104,
                    88,
                    97,
                    105,
                    90,
                    99,
                    10,
                    106,
                    98,
                    94,
                    112,
                    117,
                    70,
                    81,
                    103,
                    94,
                    98,
                    131,
                    87,
                    60,
                    112,
                    102,
                    99,
                    116,
                    92,
                    83,
                    97,
                    112,
                    116,
                    102,
                    121,
                    95,
                    93,
                    92,
                    98,
                    85,
                    78,
                    120,
                    92,
                    101,
                    119,
                    101,
                    112,
                    96,
                    114,
                    97,
                    101,
                    56,
                    100,
                    94,
                    94,
                    21,
                    104,
                    63,
                    100,
                    126,
                    106,
                    86,
                    142,
                    108,
                    102,
                    92,
                    83,
                    94,
                    92,
                    103,
                    89,
                    95,
                    103,
                    97,
                    125,
                    91,
                    90,
                    49,
                    98,
                    107,
                    118,
                    94,
                    103,
                    86,
                    83,
                    97,
                    99,
                    104,
                    102,
                    89,
                    98,
                    125,
                    89,
                    94,
                    94,
                    85,
                    34,
                    86,
                    91,
                    108,
                    95,
                    100,
                    90,
                    112,
                    86,
                    124,
                    107,
                    92,
                    121,
                    90,
                    104,
                    92,
                    114,
                    98,
                    95,
                    78,
                    107,
                    92,
                    95,
                    96,
                    118,
                    105,
                    94,
                    52,
                    105,
                    95,
                    100,
                    97,
                    89,
                    102,
                    96,
                    131,
                    89,
                    93,
                    111,
                    75,
                    120,
                    96,
                    148,
                    94,
                    107,
                    32,
                    104,
                    23,
                    111,
                    83,
                    53,
                    95,
                    132,
                    98,
                    108,
                    106,
                    104,
                    90,
                    106,
                    90,
                    97,
                    113,
                    123,
                    115,
                    105,
                    101,
                    102,
                    122,
                    128,
                    82,
                    102,
                    80,
                    94,
                    123,
                    104,
                    85,
                    84,
                    103,
                    95,
                    100,
                    89,
                    116,
                    118,
                    96,
                    114,
                    99,
                    87,
                    92,
                    90,
                    95,
                    96,
                    93,
                    42,
                    92,
                    106,
                    151,
                    101,
                    114,
                    90,
                    115,
                    92,
                    72,
                    139,
                    98,
                    92,
                    111,
                    98,
                    104,
                    95,
                    88,
                    102,
                    30,
                    99,
                    129,
                    87,
                    117,
                    104,
                    111,
                    107,
                    97,
                    98,
                    90,
                    101,
                    72,
                    83,
                    118,
                    44,
                    113,
                    86,
                    108,
                    85,
                    102,
                    151,
                    98,
                    87,
                    120,
                    134,
                    109,
                    85,
                    103,
                    94,
                    97,
                    88,
                    37,
                    112,
                    102,
                    100,
                    96,
                    113,
                    16,
                    119,
                    97,
                    81,
                    98,
                    95,
                    96,
                    107,
                    41,
                    87,
                    101,
                    97,
                    103,
                    90,
                    125,
                    116,
                    99,
                    82,
                    97,
                    28,
                    108,
                    93,
                    74,
                    60,
                    9,
                    21,
                    100,
                    155,
                    55,
                    123,
                    103,
                    93,
                    119,
                    40,
                    120,
                    98,
                    104,
                    91,
                    95,
                    101,
                    105,
                    83,
                    91,
                    83,
                    17,
                    86,
                    124,
                    94,
                    102,
                    118,
                    79,
                    134,
                    126,
                    98,
                    89,
                    58,
                    83,
                    136,
                    98,
                    114,
                    99,
                    130,
                    32,
                    104,
                    142,
                    92,
                    86,
                    106,
                    95,
                    91,
                    89,
                    117,
                    90,
                    117,
                    80,
                    87,
                    101,
                    19,
                    106,
                    54,
                    111,
                    132,
                    97,
                    106,
                    111,
                    124,
                    116,
                    112,
                    144,
                    76,
                    101,
                    92,
                    19,
                    39,
                    102,
                    89,
                    105,
                    101,
                    70,
                    96,
                    85,
                    39,
                    79,
                    73,
                    114,
                    121,
                    28,
                    95,
                    122,
                    23,
                    107,
                    98,
                    108,
                    92,
                    100,
                    97,
                    7,
                    96,
                    100,
                    132,
                    103,
                    121,
                    114,
                    57,
                    95,
                    83,
                    17,
                    105,
                    131,
                    30,
                    112,
                    86,
                    100,
                    14,
                    109,
                    28,
                    64,
                    94,
                    31,
                    99,
                    108,
                    48,
                    84,
                    70,
                    27,
                    45,
                    117,
                    104,
                    108,
                    121,
                    36,
                    30,
                    47,
                    110,
                    92,
                    80,
                    49,
                    73,
                    40,
                    96,
                    106,
                    97,
                    94,
                    78,
                    81,
                    87,
                    91,
                    91,
                    95,
                    126,
                    31,
                    58,
                    41,
                    138,
                    112,
                    114,
                    125,
                    99,
                    82,
                    98,
                    136,
                    97,
                    107,
                    92,
                    39,
                    133,
                    89,
                    124,
                    99,
                    101,
                    97,
                    124,
                    129,
                    121,
                    140,
                    13,
                    108,
                    11,
                    118,
                    121,
                    24,
                    100,
                    101,
                    105,
                    96,
                    47,
                    121,
                    100,
                    149,
                    64,
                    64,
                    114,
                    15,
                    79,
                    90,
                    132,
                    105,
                    97,
                    83,
                    110,
                    39,
                    40,
                    85,
                    26,
                    87,
                    97,
                    118,
                    23,
                    40,
                    98,
                    80,
                    108,
                    79,
                    74,
                    90,
                    137,
                    71,
                    98,
                    70,
                    99,
                    40,
                    104,
                    149,
                    124,
                    144,
                    85,
                    100,
                    94,
                    125,
                    84,
                    117,
                    15,
                    136,
                    76,
                    108,
                    94,
                    90,
                    72,
                    135,
                    12,
                    209,
                    130,
                    82,
                    120,
                    136,
                    112,
                    105,
                    89,
                    85,
                    106,
                    100,
                    107,
                    97,
                    89,
                    109,
                    114,
                    51,
                    85,
                    125,
                    91,
                    153,
                    89,
                    83
                  ],
                  "xaxis": "x",
                  "yaxis": "y"
                }
              ],
              "layout": {
                "barmode": "relative",
                "legend": {
                  "tracegroupgap": 0
                },
                "margin": {
                  "t": 60
                },
                "template": {
                  "data": {
                    "bar": [
                      {
                        "error_x": {
                          "color": "#2a3f5f"
                        },
                        "error_y": {
                          "color": "#2a3f5f"
                        },
                        "marker": {
                          "line": {
                            "color": "#E5ECF6",
                            "width": 0.5
                          },
                          "pattern": {
                            "fillmode": "overlay",
                            "size": 10,
                            "solidity": 0.2
                          }
                        },
                        "type": "bar"
                      }
                    ],
                    "barpolar": [
                      {
                        "marker": {
                          "line": {
                            "color": "#E5ECF6",
                            "width": 0.5
                          },
                          "pattern": {
                            "fillmode": "overlay",
                            "size": 10,
                            "solidity": 0.2
                          }
                        },
                        "type": "barpolar"
                      }
                    ],
                    "carpet": [
                      {
                        "aaxis": {
                          "endlinecolor": "#2a3f5f",
                          "gridcolor": "white",
                          "linecolor": "white",
                          "minorgridcolor": "white",
                          "startlinecolor": "#2a3f5f"
                        },
                        "baxis": {
                          "endlinecolor": "#2a3f5f",
                          "gridcolor": "white",
                          "linecolor": "white",
                          "minorgridcolor": "white",
                          "startlinecolor": "#2a3f5f"
                        },
                        "type": "carpet"
                      }
                    ],
                    "choropleth": [
                      {
                        "colorbar": {
                          "outlinewidth": 0,
                          "ticks": ""
                        },
                        "type": "choropleth"
                      }
                    ],
                    "contour": [
                      {
                        "colorbar": {
                          "outlinewidth": 0,
                          "ticks": ""
                        },
                        "colorscale": [
                          [
                            0,
                            "#0d0887"
                          ],
                          [
                            0.1111111111111111,
                            "#46039f"
                          ],
                          [
                            0.2222222222222222,
                            "#7201a8"
                          ],
                          [
                            0.3333333333333333,
                            "#9c179e"
                          ],
                          [
                            0.4444444444444444,
                            "#bd3786"
                          ],
                          [
                            0.5555555555555556,
                            "#d8576b"
                          ],
                          [
                            0.6666666666666666,
                            "#ed7953"
                          ],
                          [
                            0.7777777777777778,
                            "#fb9f3a"
                          ],
                          [
                            0.8888888888888888,
                            "#fdca26"
                          ],
                          [
                            1,
                            "#f0f921"
                          ]
                        ],
                        "type": "contour"
                      }
                    ],
                    "contourcarpet": [
                      {
                        "colorbar": {
                          "outlinewidth": 0,
                          "ticks": ""
                        },
                        "type": "contourcarpet"
                      }
                    ],
                    "heatmap": [
                      {
                        "colorbar": {
                          "outlinewidth": 0,
                          "ticks": ""
                        },
                        "colorscale": [
                          [
                            0,
                            "#0d0887"
                          ],
                          [
                            0.1111111111111111,
                            "#46039f"
                          ],
                          [
                            0.2222222222222222,
                            "#7201a8"
                          ],
                          [
                            0.3333333333333333,
                            "#9c179e"
                          ],
                          [
                            0.4444444444444444,
                            "#bd3786"
                          ],
                          [
                            0.5555555555555556,
                            "#d8576b"
                          ],
                          [
                            0.6666666666666666,
                            "#ed7953"
                          ],
                          [
                            0.7777777777777778,
                            "#fb9f3a"
                          ],
                          [
                            0.8888888888888888,
                            "#fdca26"
                          ],
                          [
                            1,
                            "#f0f921"
                          ]
                        ],
                        "type": "heatmap"
                      }
                    ],
                    "heatmapgl": [
                      {
                        "colorbar": {
                          "outlinewidth": 0,
                          "ticks": ""
                        },
                        "colorscale": [
                          [
                            0,
                            "#0d0887"
                          ],
                          [
                            0.1111111111111111,
                            "#46039f"
                          ],
                          [
                            0.2222222222222222,
                            "#7201a8"
                          ],
                          [
                            0.3333333333333333,
                            "#9c179e"
                          ],
                          [
                            0.4444444444444444,
                            "#bd3786"
                          ],
                          [
                            0.5555555555555556,
                            "#d8576b"
                          ],
                          [
                            0.6666666666666666,
                            "#ed7953"
                          ],
                          [
                            0.7777777777777778,
                            "#fb9f3a"
                          ],
                          [
                            0.8888888888888888,
                            "#fdca26"
                          ],
                          [
                            1,
                            "#f0f921"
                          ]
                        ],
                        "type": "heatmapgl"
                      }
                    ],
                    "histogram": [
                      {
                        "marker": {
                          "pattern": {
                            "fillmode": "overlay",
                            "size": 10,
                            "solidity": 0.2
                          }
                        },
                        "type": "histogram"
                      }
                    ],
                    "histogram2d": [
                      {
                        "colorbar": {
                          "outlinewidth": 0,
                          "ticks": ""
                        },
                        "colorscale": [
                          [
                            0,
                            "#0d0887"
                          ],
                          [
                            0.1111111111111111,
                            "#46039f"
                          ],
                          [
                            0.2222222222222222,
                            "#7201a8"
                          ],
                          [
                            0.3333333333333333,
                            "#9c179e"
                          ],
                          [
                            0.4444444444444444,
                            "#bd3786"
                          ],
                          [
                            0.5555555555555556,
                            "#d8576b"
                          ],
                          [
                            0.6666666666666666,
                            "#ed7953"
                          ],
                          [
                            0.7777777777777778,
                            "#fb9f3a"
                          ],
                          [
                            0.8888888888888888,
                            "#fdca26"
                          ],
                          [
                            1,
                            "#f0f921"
                          ]
                        ],
                        "type": "histogram2d"
                      }
                    ],
                    "histogram2dcontour": [
                      {
                        "colorbar": {
                          "outlinewidth": 0,
                          "ticks": ""
                        },
                        "colorscale": [
                          [
                            0,
                            "#0d0887"
                          ],
                          [
                            0.1111111111111111,
                            "#46039f"
                          ],
                          [
                            0.2222222222222222,
                            "#7201a8"
                          ],
                          [
                            0.3333333333333333,
                            "#9c179e"
                          ],
                          [
                            0.4444444444444444,
                            "#bd3786"
                          ],
                          [
                            0.5555555555555556,
                            "#d8576b"
                          ],
                          [
                            0.6666666666666666,
                            "#ed7953"
                          ],
                          [
                            0.7777777777777778,
                            "#fb9f3a"
                          ],
                          [
                            0.8888888888888888,
                            "#fdca26"
                          ],
                          [
                            1,
                            "#f0f921"
                          ]
                        ],
                        "type": "histogram2dcontour"
                      }
                    ],
                    "mesh3d": [
                      {
                        "colorbar": {
                          "outlinewidth": 0,
                          "ticks": ""
                        },
                        "type": "mesh3d"
                      }
                    ],
                    "parcoords": [
                      {
                        "line": {
                          "colorbar": {
                            "outlinewidth": 0,
                            "ticks": ""
                          }
                        },
                        "type": "parcoords"
                      }
                    ],
                    "pie": [
                      {
                        "automargin": true,
                        "type": "pie"
                      }
                    ],
                    "scatter": [
                      {
                        "fillpattern": {
                          "fillmode": "overlay",
                          "size": 10,
                          "solidity": 0.2
                        },
                        "type": "scatter"
                      }
                    ],
                    "scatter3d": [
                      {
                        "line": {
                          "colorbar": {
                            "outlinewidth": 0,
                            "ticks": ""
                          }
                        },
                        "marker": {
                          "colorbar": {
                            "outlinewidth": 0,
                            "ticks": ""
                          }
                        },
                        "type": "scatter3d"
                      }
                    ],
                    "scattercarpet": [
                      {
                        "marker": {
                          "colorbar": {
                            "outlinewidth": 0,
                            "ticks": ""
                          }
                        },
                        "type": "scattercarpet"
                      }
                    ],
                    "scattergeo": [
                      {
                        "marker": {
                          "colorbar": {
                            "outlinewidth": 0,
                            "ticks": ""
                          }
                        },
                        "type": "scattergeo"
                      }
                    ],
                    "scattergl": [
                      {
                        "marker": {
                          "colorbar": {
                            "outlinewidth": 0,
                            "ticks": ""
                          }
                        },
                        "type": "scattergl"
                      }
                    ],
                    "scattermapbox": [
                      {
                        "marker": {
                          "colorbar": {
                            "outlinewidth": 0,
                            "ticks": ""
                          }
                        },
                        "type": "scattermapbox"
                      }
                    ],
                    "scatterpolar": [
                      {
                        "marker": {
                          "colorbar": {
                            "outlinewidth": 0,
                            "ticks": ""
                          }
                        },
                        "type": "scatterpolar"
                      }
                    ],
                    "scatterpolargl": [
                      {
                        "marker": {
                          "colorbar": {
                            "outlinewidth": 0,
                            "ticks": ""
                          }
                        },
                        "type": "scatterpolargl"
                      }
                    ],
                    "scatterternary": [
                      {
                        "marker": {
                          "colorbar": {
                            "outlinewidth": 0,
                            "ticks": ""
                          }
                        },
                        "type": "scatterternary"
                      }
                    ],
                    "surface": [
                      {
                        "colorbar": {
                          "outlinewidth": 0,
                          "ticks": ""
                        },
                        "colorscale": [
                          [
                            0,
                            "#0d0887"
                          ],
                          [
                            0.1111111111111111,
                            "#46039f"
                          ],
                          [
                            0.2222222222222222,
                            "#7201a8"
                          ],
                          [
                            0.3333333333333333,
                            "#9c179e"
                          ],
                          [
                            0.4444444444444444,
                            "#bd3786"
                          ],
                          [
                            0.5555555555555556,
                            "#d8576b"
                          ],
                          [
                            0.6666666666666666,
                            "#ed7953"
                          ],
                          [
                            0.7777777777777778,
                            "#fb9f3a"
                          ],
                          [
                            0.8888888888888888,
                            "#fdca26"
                          ],
                          [
                            1,
                            "#f0f921"
                          ]
                        ],
                        "type": "surface"
                      }
                    ],
                    "table": [
                      {
                        "cells": {
                          "fill": {
                            "color": "#EBF0F8"
                          },
                          "line": {
                            "color": "white"
                          }
                        },
                        "header": {
                          "fill": {
                            "color": "#C8D4E3"
                          },
                          "line": {
                            "color": "white"
                          }
                        },
                        "type": "table"
                      }
                    ]
                  },
                  "layout": {
                    "annotationdefaults": {
                      "arrowcolor": "#2a3f5f",
                      "arrowhead": 0,
                      "arrowwidth": 1
                    },
                    "autotypenumbers": "strict",
                    "coloraxis": {
                      "colorbar": {
                        "outlinewidth": 0,
                        "ticks": ""
                      }
                    },
                    "colorscale": {
                      "diverging": [
                        [
                          0,
                          "#8e0152"
                        ],
                        [
                          0.1,
                          "#c51b7d"
                        ],
                        [
                          0.2,
                          "#de77ae"
                        ],
                        [
                          0.3,
                          "#f1b6da"
                        ],
                        [
                          0.4,
                          "#fde0ef"
                        ],
                        [
                          0.5,
                          "#f7f7f7"
                        ],
                        [
                          0.6,
                          "#e6f5d0"
                        ],
                        [
                          0.7,
                          "#b8e186"
                        ],
                        [
                          0.8,
                          "#7fbc41"
                        ],
                        [
                          0.9,
                          "#4d9221"
                        ],
                        [
                          1,
                          "#276419"
                        ]
                      ],
                      "sequential": [
                        [
                          0,
                          "#0d0887"
                        ],
                        [
                          0.1111111111111111,
                          "#46039f"
                        ],
                        [
                          0.2222222222222222,
                          "#7201a8"
                        ],
                        [
                          0.3333333333333333,
                          "#9c179e"
                        ],
                        [
                          0.4444444444444444,
                          "#bd3786"
                        ],
                        [
                          0.5555555555555556,
                          "#d8576b"
                        ],
                        [
                          0.6666666666666666,
                          "#ed7953"
                        ],
                        [
                          0.7777777777777778,
                          "#fb9f3a"
                        ],
                        [
                          0.8888888888888888,
                          "#fdca26"
                        ],
                        [
                          1,
                          "#f0f921"
                        ]
                      ],
                      "sequentialminus": [
                        [
                          0,
                          "#0d0887"
                        ],
                        [
                          0.1111111111111111,
                          "#46039f"
                        ],
                        [
                          0.2222222222222222,
                          "#7201a8"
                        ],
                        [
                          0.3333333333333333,
                          "#9c179e"
                        ],
                        [
                          0.4444444444444444,
                          "#bd3786"
                        ],
                        [
                          0.5555555555555556,
                          "#d8576b"
                        ],
                        [
                          0.6666666666666666,
                          "#ed7953"
                        ],
                        [
                          0.7777777777777778,
                          "#fb9f3a"
                        ],
                        [
                          0.8888888888888888,
                          "#fdca26"
                        ],
                        [
                          1,
                          "#f0f921"
                        ]
                      ]
                    },
                    "colorway": [
                      "#636efa",
                      "#EF553B",
                      "#00cc96",
                      "#ab63fa",
                      "#FFA15A",
                      "#19d3f3",
                      "#FF6692",
                      "#B6E880",
                      "#FF97FF",
                      "#FECB52"
                    ],
                    "font": {
                      "color": "#2a3f5f"
                    },
                    "geo": {
                      "bgcolor": "white",
                      "lakecolor": "white",
                      "landcolor": "#E5ECF6",
                      "showlakes": true,
                      "showland": true,
                      "subunitcolor": "white"
                    },
                    "hoverlabel": {
                      "align": "left"
                    },
                    "hovermode": "closest",
                    "mapbox": {
                      "style": "light"
                    },
                    "paper_bgcolor": "white",
                    "plot_bgcolor": "#E5ECF6",
                    "polar": {
                      "angularaxis": {
                        "gridcolor": "white",
                        "linecolor": "white",
                        "ticks": ""
                      },
                      "bgcolor": "#E5ECF6",
                      "radialaxis": {
                        "gridcolor": "white",
                        "linecolor": "white",
                        "ticks": ""
                      }
                    },
                    "scene": {
                      "xaxis": {
                        "backgroundcolor": "#E5ECF6",
                        "gridcolor": "white",
                        "gridwidth": 2,
                        "linecolor": "white",
                        "showbackground": true,
                        "ticks": "",
                        "zerolinecolor": "white"
                      },
                      "yaxis": {
                        "backgroundcolor": "#E5ECF6",
                        "gridcolor": "white",
                        "gridwidth": 2,
                        "linecolor": "white",
                        "showbackground": true,
                        "ticks": "",
                        "zerolinecolor": "white"
                      },
                      "zaxis": {
                        "backgroundcolor": "#E5ECF6",
                        "gridcolor": "white",
                        "gridwidth": 2,
                        "linecolor": "white",
                        "showbackground": true,
                        "ticks": "",
                        "zerolinecolor": "white"
                      }
                    },
                    "shapedefaults": {
                      "line": {
                        "color": "#2a3f5f"
                      }
                    },
                    "ternary": {
                      "aaxis": {
                        "gridcolor": "white",
                        "linecolor": "white",
                        "ticks": ""
                      },
                      "baxis": {
                        "gridcolor": "white",
                        "linecolor": "white",
                        "ticks": ""
                      },
                      "bgcolor": "#E5ECF6",
                      "caxis": {
                        "gridcolor": "white",
                        "linecolor": "white",
                        "ticks": ""
                      }
                    },
                    "title": {
                      "x": 0.05
                    },
                    "xaxis": {
                      "automargin": true,
                      "gridcolor": "white",
                      "linecolor": "white",
                      "ticks": "",
                      "title": {
                        "standoff": 15
                      },
                      "zerolinecolor": "white",
                      "zerolinewidth": 2
                    },
                    "yaxis": {
                      "automargin": true,
                      "gridcolor": "white",
                      "linecolor": "white",
                      "ticks": "",
                      "title": {
                        "standoff": 15
                      },
                      "zerolinecolor": "white",
                      "zerolinewidth": 2
                    }
                  }
                },
                "xaxis": {
                  "anchor": "y",
                  "domain": [
                    0,
                    1
                  ],
                  "title": {
                    "text": "Runtime"
                  }
                },
                "yaxis": {
                  "anchor": "x",
                  "domain": [
                    0,
                    1
                  ],
                  "title": {
                    "text": "count"
                  }
                }
              }
            }
          },
          "metadata": {},
          "output_type": "display_data"
        }
      ],
      "source": [
        "fig = px.histogram(data, x= 'Runtime')\n",
        "fig.show()"
      ]
    },
    {
      "cell_type": "code",
      "execution_count": 23,
      "metadata": {},
      "outputs": [
        {
          "data": {
            "application/vnd.plotly.v1+json": {
              "config": {
                "plotlyServerURL": "https://plot.ly"
              },
              "data": [
                {
                  "alignmentgroup": "True",
                  "bingroup": "x",
                  "hovertemplate": "IMDB Score=%{x}<br>count=%{y}<extra></extra>",
                  "legendgroup": "",
                  "marker": {
                    "color": "#636efa",
                    "pattern": {
                      "shape": ""
                    }
                  },
                  "name": "",
                  "offsetgroup": "",
                  "orientation": "v",
                  "showlegend": false,
                  "type": "histogram",
                  "x": [
                    2.5,
                    2.6,
                    2.6,
                    3.2,
                    3.4,
                    3.5,
                    3.7,
                    3.7,
                    3.9,
                    4.1,
                    4.1,
                    4.1,
                    4.1,
                    4.2,
                    4.2,
                    4.3,
                    4.3,
                    4.3,
                    4.3,
                    4.4,
                    4.4,
                    4.4,
                    4.4,
                    4.4,
                    4.4,
                    4.5,
                    4.5,
                    4.5,
                    4.5,
                    4.6,
                    4.6,
                    4.6,
                    4.6,
                    4.6,
                    4.6,
                    4.6,
                    4.6,
                    4.7,
                    4.7,
                    4.7,
                    4.7,
                    4.7,
                    4.7,
                    4.8,
                    4.8,
                    4.8,
                    4.8,
                    4.8,
                    4.8,
                    4.8,
                    4.9,
                    4.9,
                    4.9,
                    4.9,
                    5,
                    5,
                    5,
                    5,
                    5,
                    5.1,
                    5.1,
                    5.1,
                    5.1,
                    5.1,
                    5.1,
                    5.2,
                    5.2,
                    5.2,
                    5.2,
                    5.2,
                    5.2,
                    5.2,
                    5.2,
                    5.2,
                    5.2,
                    5.2,
                    5.2,
                    5.2,
                    5.2,
                    5.2,
                    5.2,
                    5.2,
                    5.2,
                    5.2,
                    5.3,
                    5.3,
                    5.3,
                    5.3,
                    5.3,
                    5.3,
                    5.3,
                    5.3,
                    5.3,
                    5.3,
                    5.4,
                    5.4,
                    5.4,
                    5.4,
                    5.4,
                    5.4,
                    5.4,
                    5.4,
                    5.4,
                    5.4,
                    5.4,
                    5.4,
                    5.4,
                    5.5,
                    5.5,
                    5.5,
                    5.5,
                    5.5,
                    5.5,
                    5.5,
                    5.5,
                    5.5,
                    5.5,
                    5.5,
                    5.5,
                    5.5,
                    5.5,
                    5.5,
                    5.5,
                    5.5,
                    5.5,
                    5.5,
                    5.6,
                    5.6,
                    5.6,
                    5.6,
                    5.6,
                    5.6,
                    5.6,
                    5.6,
                    5.6,
                    5.6,
                    5.6,
                    5.6,
                    5.6,
                    5.6,
                    5.6,
                    5.7,
                    5.7,
                    5.7,
                    5.7,
                    5.7,
                    5.7,
                    5.7,
                    5.7,
                    5.7,
                    5.7,
                    5.7,
                    5.7,
                    5.7,
                    5.7,
                    5.7,
                    5.7,
                    5.7,
                    5.7,
                    5.7,
                    5.7,
                    5.8,
                    5.8,
                    5.8,
                    5.8,
                    5.8,
                    5.8,
                    5.8,
                    5.8,
                    5.8,
                    5.8,
                    5.8,
                    5.8,
                    5.8,
                    5.8,
                    5.8,
                    5.8,
                    5.8,
                    5.8,
                    5.8,
                    5.8,
                    5.8,
                    5.8,
                    5.8,
                    5.8,
                    5.8,
                    5.8,
                    5.8,
                    5.8,
                    5.8,
                    5.8,
                    5.9,
                    5.9,
                    5.9,
                    5.9,
                    5.9,
                    5.9,
                    5.9,
                    5.9,
                    5.9,
                    5.9,
                    5.9,
                    5.9,
                    5.9,
                    5.9,
                    5.9,
                    5.9,
                    6,
                    6,
                    6,
                    6,
                    6,
                    6,
                    6,
                    6,
                    6,
                    6,
                    6,
                    6,
                    6,
                    6.1,
                    6.1,
                    6.1,
                    6.1,
                    6.1,
                    6.1,
                    6.1,
                    6.1,
                    6.1,
                    6.1,
                    6.1,
                    6.1,
                    6.1,
                    6.1,
                    6.1,
                    6.1,
                    6.1,
                    6.1,
                    6.1,
                    6.1,
                    6.1,
                    6.1,
                    6.1,
                    6.1,
                    6.2,
                    6.2,
                    6.2,
                    6.2,
                    6.2,
                    6.2,
                    6.2,
                    6.2,
                    6.2,
                    6.2,
                    6.2,
                    6.2,
                    6.2,
                    6.2,
                    6.2,
                    6.2,
                    6.2,
                    6.2,
                    6.3,
                    6.3,
                    6.3,
                    6.3,
                    6.3,
                    6.3,
                    6.3,
                    6.3,
                    6.3,
                    6.3,
                    6.3,
                    6.3,
                    6.3,
                    6.3,
                    6.3,
                    6.3,
                    6.3,
                    6.3,
                    6.3,
                    6.3,
                    6.3,
                    6.3,
                    6.3,
                    6.3,
                    6.3,
                    6.3,
                    6.3,
                    6.3,
                    6.3,
                    6.3,
                    6.4,
                    6.4,
                    6.4,
                    6.4,
                    6.4,
                    6.4,
                    6.4,
                    6.4,
                    6.4,
                    6.4,
                    6.4,
                    6.4,
                    6.4,
                    6.4,
                    6.4,
                    6.4,
                    6.4,
                    6.4,
                    6.4,
                    6.4,
                    6.4,
                    6.4,
                    6.4,
                    6.4,
                    6.4,
                    6.4,
                    6.4,
                    6.4,
                    6.5,
                    6.5,
                    6.5,
                    6.5,
                    6.5,
                    6.5,
                    6.5,
                    6.5,
                    6.5,
                    6.5,
                    6.5,
                    6.5,
                    6.5,
                    6.5,
                    6.5,
                    6.5,
                    6.5,
                    6.5,
                    6.5,
                    6.5,
                    6.5,
                    6.5,
                    6.5,
                    6.5,
                    6.5,
                    6.5,
                    6.6,
                    6.6,
                    6.6,
                    6.6,
                    6.6,
                    6.6,
                    6.6,
                    6.6,
                    6.6,
                    6.6,
                    6.6,
                    6.6,
                    6.6,
                    6.6,
                    6.6,
                    6.6,
                    6.6,
                    6.6,
                    6.7,
                    6.7,
                    6.7,
                    6.7,
                    6.7,
                    6.7,
                    6.7,
                    6.7,
                    6.7,
                    6.7,
                    6.7,
                    6.7,
                    6.7,
                    6.7,
                    6.7,
                    6.7,
                    6.7,
                    6.7,
                    6.7,
                    6.7,
                    6.7,
                    6.7,
                    6.7,
                    6.7,
                    6.7,
                    6.8,
                    6.8,
                    6.8,
                    6.8,
                    6.8,
                    6.8,
                    6.8,
                    6.8,
                    6.8,
                    6.8,
                    6.8,
                    6.8,
                    6.8,
                    6.8,
                    6.8,
                    6.8,
                    6.8,
                    6.8,
                    6.8,
                    6.8,
                    6.8,
                    6.8,
                    6.8,
                    6.8,
                    6.9,
                    6.9,
                    6.9,
                    6.9,
                    6.9,
                    6.9,
                    6.9,
                    6.9,
                    6.9,
                    6.9,
                    6.9,
                    6.9,
                    6.9,
                    6.9,
                    6.9,
                    6.9,
                    6.9,
                    6.9,
                    6.9,
                    7,
                    7,
                    7,
                    7,
                    7,
                    7,
                    7,
                    7,
                    7,
                    7,
                    7,
                    7,
                    7,
                    7,
                    7,
                    7,
                    7,
                    7,
                    7,
                    7.1,
                    7.1,
                    7.1,
                    7.1,
                    7.1,
                    7.1,
                    7.1,
                    7.1,
                    7.1,
                    7.1,
                    7.1,
                    7.1,
                    7.1,
                    7.1,
                    7.1,
                    7.1,
                    7.1,
                    7.1,
                    7.1,
                    7.1,
                    7.1,
                    7.1,
                    7.1,
                    7.1,
                    7.1,
                    7.1,
                    7.1,
                    7.1,
                    7.2,
                    7.2,
                    7.2,
                    7.2,
                    7.2,
                    7.2,
                    7.2,
                    7.2,
                    7.2,
                    7.2,
                    7.2,
                    7.2,
                    7.2,
                    7.2,
                    7.2,
                    7.2,
                    7.2,
                    7.2,
                    7.2,
                    7.2,
                    7.3,
                    7.3,
                    7.3,
                    7.3,
                    7.3,
                    7.3,
                    7.3,
                    7.3,
                    7.3,
                    7.3,
                    7.3,
                    7.3,
                    7.3,
                    7.3,
                    7.3,
                    7.3,
                    7.3,
                    7.3,
                    7.3,
                    7.3,
                    7.3,
                    7.4,
                    7.4,
                    7.4,
                    7.4,
                    7.4,
                    7.4,
                    7.4,
                    7.4,
                    7.4,
                    7.4,
                    7.4,
                    7.4,
                    7.5,
                    7.5,
                    7.5,
                    7.5,
                    7.5,
                    7.5,
                    7.5,
                    7.5,
                    7.5,
                    7.5,
                    7.6,
                    7.6,
                    7.6,
                    7.6,
                    7.6,
                    7.6,
                    7.6,
                    7.6,
                    7.6,
                    7.6,
                    7.7,
                    7.7,
                    7.7,
                    7.7,
                    7.7,
                    7.7,
                    7.7,
                    7.7,
                    7.8,
                    7.8,
                    7.8,
                    7.9,
                    7.9,
                    7.9,
                    7.9,
                    8,
                    8.1,
                    8.1,
                    8.1,
                    8.2,
                    8.2,
                    8.2,
                    8.2,
                    8.2,
                    8.3,
                    8.3,
                    8.4,
                    8.4,
                    8.4,
                    8.5,
                    8.6,
                    9
                  ],
                  "xaxis": "x",
                  "yaxis": "y"
                }
              ],
              "layout": {
                "barmode": "relative",
                "legend": {
                  "tracegroupgap": 0
                },
                "margin": {
                  "t": 60
                },
                "template": {
                  "data": {
                    "bar": [
                      {
                        "error_x": {
                          "color": "#2a3f5f"
                        },
                        "error_y": {
                          "color": "#2a3f5f"
                        },
                        "marker": {
                          "line": {
                            "color": "#E5ECF6",
                            "width": 0.5
                          },
                          "pattern": {
                            "fillmode": "overlay",
                            "size": 10,
                            "solidity": 0.2
                          }
                        },
                        "type": "bar"
                      }
                    ],
                    "barpolar": [
                      {
                        "marker": {
                          "line": {
                            "color": "#E5ECF6",
                            "width": 0.5
                          },
                          "pattern": {
                            "fillmode": "overlay",
                            "size": 10,
                            "solidity": 0.2
                          }
                        },
                        "type": "barpolar"
                      }
                    ],
                    "carpet": [
                      {
                        "aaxis": {
                          "endlinecolor": "#2a3f5f",
                          "gridcolor": "white",
                          "linecolor": "white",
                          "minorgridcolor": "white",
                          "startlinecolor": "#2a3f5f"
                        },
                        "baxis": {
                          "endlinecolor": "#2a3f5f",
                          "gridcolor": "white",
                          "linecolor": "white",
                          "minorgridcolor": "white",
                          "startlinecolor": "#2a3f5f"
                        },
                        "type": "carpet"
                      }
                    ],
                    "choropleth": [
                      {
                        "colorbar": {
                          "outlinewidth": 0,
                          "ticks": ""
                        },
                        "type": "choropleth"
                      }
                    ],
                    "contour": [
                      {
                        "colorbar": {
                          "outlinewidth": 0,
                          "ticks": ""
                        },
                        "colorscale": [
                          [
                            0,
                            "#0d0887"
                          ],
                          [
                            0.1111111111111111,
                            "#46039f"
                          ],
                          [
                            0.2222222222222222,
                            "#7201a8"
                          ],
                          [
                            0.3333333333333333,
                            "#9c179e"
                          ],
                          [
                            0.4444444444444444,
                            "#bd3786"
                          ],
                          [
                            0.5555555555555556,
                            "#d8576b"
                          ],
                          [
                            0.6666666666666666,
                            "#ed7953"
                          ],
                          [
                            0.7777777777777778,
                            "#fb9f3a"
                          ],
                          [
                            0.8888888888888888,
                            "#fdca26"
                          ],
                          [
                            1,
                            "#f0f921"
                          ]
                        ],
                        "type": "contour"
                      }
                    ],
                    "contourcarpet": [
                      {
                        "colorbar": {
                          "outlinewidth": 0,
                          "ticks": ""
                        },
                        "type": "contourcarpet"
                      }
                    ],
                    "heatmap": [
                      {
                        "colorbar": {
                          "outlinewidth": 0,
                          "ticks": ""
                        },
                        "colorscale": [
                          [
                            0,
                            "#0d0887"
                          ],
                          [
                            0.1111111111111111,
                            "#46039f"
                          ],
                          [
                            0.2222222222222222,
                            "#7201a8"
                          ],
                          [
                            0.3333333333333333,
                            "#9c179e"
                          ],
                          [
                            0.4444444444444444,
                            "#bd3786"
                          ],
                          [
                            0.5555555555555556,
                            "#d8576b"
                          ],
                          [
                            0.6666666666666666,
                            "#ed7953"
                          ],
                          [
                            0.7777777777777778,
                            "#fb9f3a"
                          ],
                          [
                            0.8888888888888888,
                            "#fdca26"
                          ],
                          [
                            1,
                            "#f0f921"
                          ]
                        ],
                        "type": "heatmap"
                      }
                    ],
                    "heatmapgl": [
                      {
                        "colorbar": {
                          "outlinewidth": 0,
                          "ticks": ""
                        },
                        "colorscale": [
                          [
                            0,
                            "#0d0887"
                          ],
                          [
                            0.1111111111111111,
                            "#46039f"
                          ],
                          [
                            0.2222222222222222,
                            "#7201a8"
                          ],
                          [
                            0.3333333333333333,
                            "#9c179e"
                          ],
                          [
                            0.4444444444444444,
                            "#bd3786"
                          ],
                          [
                            0.5555555555555556,
                            "#d8576b"
                          ],
                          [
                            0.6666666666666666,
                            "#ed7953"
                          ],
                          [
                            0.7777777777777778,
                            "#fb9f3a"
                          ],
                          [
                            0.8888888888888888,
                            "#fdca26"
                          ],
                          [
                            1,
                            "#f0f921"
                          ]
                        ],
                        "type": "heatmapgl"
                      }
                    ],
                    "histogram": [
                      {
                        "marker": {
                          "pattern": {
                            "fillmode": "overlay",
                            "size": 10,
                            "solidity": 0.2
                          }
                        },
                        "type": "histogram"
                      }
                    ],
                    "histogram2d": [
                      {
                        "colorbar": {
                          "outlinewidth": 0,
                          "ticks": ""
                        },
                        "colorscale": [
                          [
                            0,
                            "#0d0887"
                          ],
                          [
                            0.1111111111111111,
                            "#46039f"
                          ],
                          [
                            0.2222222222222222,
                            "#7201a8"
                          ],
                          [
                            0.3333333333333333,
                            "#9c179e"
                          ],
                          [
                            0.4444444444444444,
                            "#bd3786"
                          ],
                          [
                            0.5555555555555556,
                            "#d8576b"
                          ],
                          [
                            0.6666666666666666,
                            "#ed7953"
                          ],
                          [
                            0.7777777777777778,
                            "#fb9f3a"
                          ],
                          [
                            0.8888888888888888,
                            "#fdca26"
                          ],
                          [
                            1,
                            "#f0f921"
                          ]
                        ],
                        "type": "histogram2d"
                      }
                    ],
                    "histogram2dcontour": [
                      {
                        "colorbar": {
                          "outlinewidth": 0,
                          "ticks": ""
                        },
                        "colorscale": [
                          [
                            0,
                            "#0d0887"
                          ],
                          [
                            0.1111111111111111,
                            "#46039f"
                          ],
                          [
                            0.2222222222222222,
                            "#7201a8"
                          ],
                          [
                            0.3333333333333333,
                            "#9c179e"
                          ],
                          [
                            0.4444444444444444,
                            "#bd3786"
                          ],
                          [
                            0.5555555555555556,
                            "#d8576b"
                          ],
                          [
                            0.6666666666666666,
                            "#ed7953"
                          ],
                          [
                            0.7777777777777778,
                            "#fb9f3a"
                          ],
                          [
                            0.8888888888888888,
                            "#fdca26"
                          ],
                          [
                            1,
                            "#f0f921"
                          ]
                        ],
                        "type": "histogram2dcontour"
                      }
                    ],
                    "mesh3d": [
                      {
                        "colorbar": {
                          "outlinewidth": 0,
                          "ticks": ""
                        },
                        "type": "mesh3d"
                      }
                    ],
                    "parcoords": [
                      {
                        "line": {
                          "colorbar": {
                            "outlinewidth": 0,
                            "ticks": ""
                          }
                        },
                        "type": "parcoords"
                      }
                    ],
                    "pie": [
                      {
                        "automargin": true,
                        "type": "pie"
                      }
                    ],
                    "scatter": [
                      {
                        "fillpattern": {
                          "fillmode": "overlay",
                          "size": 10,
                          "solidity": 0.2
                        },
                        "type": "scatter"
                      }
                    ],
                    "scatter3d": [
                      {
                        "line": {
                          "colorbar": {
                            "outlinewidth": 0,
                            "ticks": ""
                          }
                        },
                        "marker": {
                          "colorbar": {
                            "outlinewidth": 0,
                            "ticks": ""
                          }
                        },
                        "type": "scatter3d"
                      }
                    ],
                    "scattercarpet": [
                      {
                        "marker": {
                          "colorbar": {
                            "outlinewidth": 0,
                            "ticks": ""
                          }
                        },
                        "type": "scattercarpet"
                      }
                    ],
                    "scattergeo": [
                      {
                        "marker": {
                          "colorbar": {
                            "outlinewidth": 0,
                            "ticks": ""
                          }
                        },
                        "type": "scattergeo"
                      }
                    ],
                    "scattergl": [
                      {
                        "marker": {
                          "colorbar": {
                            "outlinewidth": 0,
                            "ticks": ""
                          }
                        },
                        "type": "scattergl"
                      }
                    ],
                    "scattermapbox": [
                      {
                        "marker": {
                          "colorbar": {
                            "outlinewidth": 0,
                            "ticks": ""
                          }
                        },
                        "type": "scattermapbox"
                      }
                    ],
                    "scatterpolar": [
                      {
                        "marker": {
                          "colorbar": {
                            "outlinewidth": 0,
                            "ticks": ""
                          }
                        },
                        "type": "scatterpolar"
                      }
                    ],
                    "scatterpolargl": [
                      {
                        "marker": {
                          "colorbar": {
                            "outlinewidth": 0,
                            "ticks": ""
                          }
                        },
                        "type": "scatterpolargl"
                      }
                    ],
                    "scatterternary": [
                      {
                        "marker": {
                          "colorbar": {
                            "outlinewidth": 0,
                            "ticks": ""
                          }
                        },
                        "type": "scatterternary"
                      }
                    ],
                    "surface": [
                      {
                        "colorbar": {
                          "outlinewidth": 0,
                          "ticks": ""
                        },
                        "colorscale": [
                          [
                            0,
                            "#0d0887"
                          ],
                          [
                            0.1111111111111111,
                            "#46039f"
                          ],
                          [
                            0.2222222222222222,
                            "#7201a8"
                          ],
                          [
                            0.3333333333333333,
                            "#9c179e"
                          ],
                          [
                            0.4444444444444444,
                            "#bd3786"
                          ],
                          [
                            0.5555555555555556,
                            "#d8576b"
                          ],
                          [
                            0.6666666666666666,
                            "#ed7953"
                          ],
                          [
                            0.7777777777777778,
                            "#fb9f3a"
                          ],
                          [
                            0.8888888888888888,
                            "#fdca26"
                          ],
                          [
                            1,
                            "#f0f921"
                          ]
                        ],
                        "type": "surface"
                      }
                    ],
                    "table": [
                      {
                        "cells": {
                          "fill": {
                            "color": "#EBF0F8"
                          },
                          "line": {
                            "color": "white"
                          }
                        },
                        "header": {
                          "fill": {
                            "color": "#C8D4E3"
                          },
                          "line": {
                            "color": "white"
                          }
                        },
                        "type": "table"
                      }
                    ]
                  },
                  "layout": {
                    "annotationdefaults": {
                      "arrowcolor": "#2a3f5f",
                      "arrowhead": 0,
                      "arrowwidth": 1
                    },
                    "autotypenumbers": "strict",
                    "coloraxis": {
                      "colorbar": {
                        "outlinewidth": 0,
                        "ticks": ""
                      }
                    },
                    "colorscale": {
                      "diverging": [
                        [
                          0,
                          "#8e0152"
                        ],
                        [
                          0.1,
                          "#c51b7d"
                        ],
                        [
                          0.2,
                          "#de77ae"
                        ],
                        [
                          0.3,
                          "#f1b6da"
                        ],
                        [
                          0.4,
                          "#fde0ef"
                        ],
                        [
                          0.5,
                          "#f7f7f7"
                        ],
                        [
                          0.6,
                          "#e6f5d0"
                        ],
                        [
                          0.7,
                          "#b8e186"
                        ],
                        [
                          0.8,
                          "#7fbc41"
                        ],
                        [
                          0.9,
                          "#4d9221"
                        ],
                        [
                          1,
                          "#276419"
                        ]
                      ],
                      "sequential": [
                        [
                          0,
                          "#0d0887"
                        ],
                        [
                          0.1111111111111111,
                          "#46039f"
                        ],
                        [
                          0.2222222222222222,
                          "#7201a8"
                        ],
                        [
                          0.3333333333333333,
                          "#9c179e"
                        ],
                        [
                          0.4444444444444444,
                          "#bd3786"
                        ],
                        [
                          0.5555555555555556,
                          "#d8576b"
                        ],
                        [
                          0.6666666666666666,
                          "#ed7953"
                        ],
                        [
                          0.7777777777777778,
                          "#fb9f3a"
                        ],
                        [
                          0.8888888888888888,
                          "#fdca26"
                        ],
                        [
                          1,
                          "#f0f921"
                        ]
                      ],
                      "sequentialminus": [
                        [
                          0,
                          "#0d0887"
                        ],
                        [
                          0.1111111111111111,
                          "#46039f"
                        ],
                        [
                          0.2222222222222222,
                          "#7201a8"
                        ],
                        [
                          0.3333333333333333,
                          "#9c179e"
                        ],
                        [
                          0.4444444444444444,
                          "#bd3786"
                        ],
                        [
                          0.5555555555555556,
                          "#d8576b"
                        ],
                        [
                          0.6666666666666666,
                          "#ed7953"
                        ],
                        [
                          0.7777777777777778,
                          "#fb9f3a"
                        ],
                        [
                          0.8888888888888888,
                          "#fdca26"
                        ],
                        [
                          1,
                          "#f0f921"
                        ]
                      ]
                    },
                    "colorway": [
                      "#636efa",
                      "#EF553B",
                      "#00cc96",
                      "#ab63fa",
                      "#FFA15A",
                      "#19d3f3",
                      "#FF6692",
                      "#B6E880",
                      "#FF97FF",
                      "#FECB52"
                    ],
                    "font": {
                      "color": "#2a3f5f"
                    },
                    "geo": {
                      "bgcolor": "white",
                      "lakecolor": "white",
                      "landcolor": "#E5ECF6",
                      "showlakes": true,
                      "showland": true,
                      "subunitcolor": "white"
                    },
                    "hoverlabel": {
                      "align": "left"
                    },
                    "hovermode": "closest",
                    "mapbox": {
                      "style": "light"
                    },
                    "paper_bgcolor": "white",
                    "plot_bgcolor": "#E5ECF6",
                    "polar": {
                      "angularaxis": {
                        "gridcolor": "white",
                        "linecolor": "white",
                        "ticks": ""
                      },
                      "bgcolor": "#E5ECF6",
                      "radialaxis": {
                        "gridcolor": "white",
                        "linecolor": "white",
                        "ticks": ""
                      }
                    },
                    "scene": {
                      "xaxis": {
                        "backgroundcolor": "#E5ECF6",
                        "gridcolor": "white",
                        "gridwidth": 2,
                        "linecolor": "white",
                        "showbackground": true,
                        "ticks": "",
                        "zerolinecolor": "white"
                      },
                      "yaxis": {
                        "backgroundcolor": "#E5ECF6",
                        "gridcolor": "white",
                        "gridwidth": 2,
                        "linecolor": "white",
                        "showbackground": true,
                        "ticks": "",
                        "zerolinecolor": "white"
                      },
                      "zaxis": {
                        "backgroundcolor": "#E5ECF6",
                        "gridcolor": "white",
                        "gridwidth": 2,
                        "linecolor": "white",
                        "showbackground": true,
                        "ticks": "",
                        "zerolinecolor": "white"
                      }
                    },
                    "shapedefaults": {
                      "line": {
                        "color": "#2a3f5f"
                      }
                    },
                    "ternary": {
                      "aaxis": {
                        "gridcolor": "white",
                        "linecolor": "white",
                        "ticks": ""
                      },
                      "baxis": {
                        "gridcolor": "white",
                        "linecolor": "white",
                        "ticks": ""
                      },
                      "bgcolor": "#E5ECF6",
                      "caxis": {
                        "gridcolor": "white",
                        "linecolor": "white",
                        "ticks": ""
                      }
                    },
                    "title": {
                      "x": 0.05
                    },
                    "xaxis": {
                      "automargin": true,
                      "gridcolor": "white",
                      "linecolor": "white",
                      "ticks": "",
                      "title": {
                        "standoff": 15
                      },
                      "zerolinecolor": "white",
                      "zerolinewidth": 2
                    },
                    "yaxis": {
                      "automargin": true,
                      "gridcolor": "white",
                      "linecolor": "white",
                      "ticks": "",
                      "title": {
                        "standoff": 15
                      },
                      "zerolinecolor": "white",
                      "zerolinewidth": 2
                    }
                  }
                },
                "xaxis": {
                  "anchor": "y",
                  "domain": [
                    0,
                    1
                  ],
                  "title": {
                    "text": "IMDB Score"
                  }
                },
                "yaxis": {
                  "anchor": "x",
                  "domain": [
                    0,
                    1
                  ],
                  "title": {
                    "text": "count"
                  }
                }
              }
            }
          },
          "metadata": {},
          "output_type": "display_data"
        }
      ],
      "source": [
        "fig2 = px.histogram(data, x= 'IMDB Score')\n",
        "fig2.show()"
      ]
    },
    {
      "cell_type": "code",
      "execution_count": 24,
      "metadata": {},
      "outputs": [
        {
          "data": {
            "application/vnd.plotly.v1+json": {
              "config": {
                "plotlyServerURL": "https://plot.ly"
              },
              "data": [
                {
                  "alignmentgroup": "True",
                  "bingroup": "x",
                  "hovertemplate": "Premiere Year=%{x}<br>count=%{y}<extra></extra>",
                  "legendgroup": "",
                  "marker": {
                    "color": "#636efa",
                    "pattern": {
                      "shape": ""
                    }
                  },
                  "name": "",
                  "offsetgroup": "",
                  "orientation": "v",
                  "showlegend": false,
                  "type": "histogram",
                  "x": [
                    2019,
                    2020,
                    2019,
                    2018,
                    2020,
                    2019,
                    2020,
                    2020,
                    2018,
                    2021,
                    2021,
                    2020,
                    2020,
                    2020,
                    2016,
                    2019,
                    2020,
                    2020,
                    2021,
                    2017,
                    2019,
                    2019,
                    2019,
                    2021,
                    2021,
                    2020,
                    2021,
                    2020,
                    2021,
                    2018,
                    2019,
                    2016,
                    2019,
                    2019,
                    2019,
                    2020,
                    2020,
                    2020,
                    2019,
                    2021,
                    2020,
                    2020,
                    2020,
                    2020,
                    2017,
                    2020,
                    2020,
                    2017,
                    2020,
                    2015,
                    2020,
                    2020,
                    2019,
                    2020,
                    2020,
                    2018,
                    2020,
                    2016,
                    2021,
                    2020,
                    2017,
                    2020,
                    2018,
                    2021,
                    2020,
                    2017,
                    2019,
                    2020,
                    2020,
                    2018,
                    2019,
                    2021,
                    2017,
                    2017,
                    2020,
                    2018,
                    2019,
                    2017,
                    2019,
                    2019,
                    2021,
                    2019,
                    2020,
                    2018,
                    2018,
                    2019,
                    2020,
                    2020,
                    2020,
                    2018,
                    2021,
                    2018,
                    2019,
                    2016,
                    2020,
                    2019,
                    2019,
                    2020,
                    2020,
                    2018,
                    2020,
                    2019,
                    2021,
                    2017,
                    2021,
                    2020,
                    2020,
                    2015,
                    2018,
                    2019,
                    2021,
                    2019,
                    2019,
                    2019,
                    2020,
                    2018,
                    2020,
                    2021,
                    2021,
                    2018,
                    2018,
                    2019,
                    2018,
                    2018,
                    2019,
                    2019,
                    2017,
                    2016,
                    2021,
                    2019,
                    2018,
                    2020,
                    2020,
                    2020,
                    2019,
                    2021,
                    2020,
                    2020,
                    2020,
                    2020,
                    2021,
                    2021,
                    2021,
                    2017,
                    2020,
                    2017,
                    2019,
                    2020,
                    2019,
                    2019,
                    2017,
                    2020,
                    2018,
                    2019,
                    2021,
                    2016,
                    2018,
                    2021,
                    2020,
                    2019,
                    2021,
                    2019,
                    2020,
                    2017,
                    2020,
                    2019,
                    2016,
                    2018,
                    2020,
                    2020,
                    2018,
                    2018,
                    2021,
                    2019,
                    2016,
                    2020,
                    2018,
                    2020,
                    2020,
                    2017,
                    2018,
                    2017,
                    2016,
                    2018,
                    2018,
                    2020,
                    2020,
                    2020,
                    2019,
                    2020,
                    2020,
                    2018,
                    2020,
                    2018,
                    2021,
                    2018,
                    2019,
                    2019,
                    2020,
                    2018,
                    2020,
                    2020,
                    2021,
                    2018,
                    2020,
                    2016,
                    2020,
                    2018,
                    2018,
                    2017,
                    2019,
                    2019,
                    2019,
                    2020,
                    2020,
                    2020,
                    2018,
                    2018,
                    2020,
                    2017,
                    2019,
                    2019,
                    2017,
                    2017,
                    2017,
                    2021,
                    2020,
                    2019,
                    2015,
                    2018,
                    2020,
                    2019,
                    2016,
                    2020,
                    2020,
                    2021,
                    2021,
                    2017,
                    2020,
                    2017,
                    2019,
                    2021,
                    2020,
                    2020,
                    2020,
                    2021,
                    2021,
                    2020,
                    2020,
                    2021,
                    2019,
                    2019,
                    2020,
                    2020,
                    2020,
                    2018,
                    2019,
                    2020,
                    2018,
                    2018,
                    2017,
                    2017,
                    2017,
                    2019,
                    2018,
                    2018,
                    2018,
                    2017,
                    2018,
                    2021,
                    2020,
                    2021,
                    2018,
                    2021,
                    2019,
                    2021,
                    2020,
                    2019,
                    2018,
                    2017,
                    2017,
                    2016,
                    2017,
                    2017,
                    2019,
                    2019,
                    2019,
                    2018,
                    2020,
                    2021,
                    2019,
                    2020,
                    2020,
                    2020,
                    2016,
                    2019,
                    2019,
                    2018,
                    2019,
                    2018,
                    2020,
                    2020,
                    2021,
                    2020,
                    2014,
                    2018,
                    2020,
                    2019,
                    2017,
                    2019,
                    2018,
                    2021,
                    2017,
                    2020,
                    2020,
                    2019,
                    2018,
                    2019,
                    2017,
                    2018,
                    2019,
                    2020,
                    2020,
                    2020,
                    2019,
                    2020,
                    2021,
                    2019,
                    2020,
                    2021,
                    2020,
                    2017,
                    2020,
                    2020,
                    2019,
                    2018,
                    2021,
                    2018,
                    2020,
                    2017,
                    2021,
                    2018,
                    2017,
                    2020,
                    2017,
                    2020,
                    2021,
                    2018,
                    2020,
                    2021,
                    2019,
                    2016,
                    2020,
                    2019,
                    2021,
                    2018,
                    2018,
                    2020,
                    2021,
                    2018,
                    2018,
                    2020,
                    2019,
                    2021,
                    2020,
                    2021,
                    2021,
                    2019,
                    2017,
                    2021,
                    2017,
                    2021,
                    2020,
                    2020,
                    2020,
                    2020,
                    2017,
                    2020,
                    2019,
                    2021,
                    2017,
                    2021,
                    2021,
                    2021,
                    2019,
                    2016,
                    2020,
                    2016,
                    2019,
                    2018,
                    2016,
                    2018,
                    2020,
                    2020,
                    2019,
                    2019,
                    2020,
                    2018,
                    2018,
                    2020,
                    2020,
                    2020,
                    2017,
                    2018,
                    2017,
                    2020,
                    2020,
                    2020,
                    2020,
                    2018,
                    2018,
                    2017,
                    2021,
                    2020,
                    2016,
                    2020,
                    2021,
                    2020,
                    2017,
                    2017,
                    2020,
                    2017,
                    2018,
                    2021,
                    2018,
                    2018,
                    2020,
                    2020,
                    2020,
                    2019,
                    2019,
                    2017,
                    2018,
                    2017,
                    2020,
                    2017,
                    2019,
                    2019,
                    2020,
                    2020,
                    2021,
                    2021,
                    2019,
                    2019,
                    2019,
                    2017,
                    2019,
                    2020,
                    2018,
                    2019,
                    2018,
                    2017,
                    2018,
                    2020,
                    2019,
                    2020,
                    2020,
                    2018,
                    2019,
                    2018,
                    2019,
                    2021,
                    2019,
                    2020,
                    2017,
                    2015,
                    2019,
                    2018,
                    2016,
                    2017,
                    2021,
                    2018,
                    2018,
                    2020,
                    2020,
                    2021,
                    2019,
                    2021,
                    2018,
                    2020,
                    2016,
                    2017,
                    2019,
                    2016,
                    2020,
                    2018,
                    2018,
                    2019,
                    2018,
                    2019,
                    2018,
                    2019,
                    2020,
                    2021,
                    2019,
                    2019,
                    2019,
                    2016,
                    2018,
                    2019,
                    2019,
                    2016,
                    2020,
                    2017,
                    2020,
                    2020,
                    2020,
                    2017,
                    2018,
                    2020,
                    2019,
                    2019,
                    2020,
                    2020,
                    2016,
                    2016,
                    2018,
                    2017,
                    2016,
                    2015,
                    2019,
                    2019,
                    2017,
                    2020,
                    2019,
                    2020,
                    2018,
                    2019,
                    2019,
                    2020,
                    2018,
                    2015,
                    2017,
                    2020,
                    2018,
                    2020,
                    2019,
                    2019,
                    2017,
                    2019,
                    2018,
                    2016,
                    2020,
                    2020,
                    2018,
                    2019,
                    2019,
                    2018,
                    2020,
                    2019,
                    2015,
                    2020,
                    2019,
                    2015,
                    2019,
                    2020,
                    2017,
                    2016,
                    2020,
                    2018,
                    2020,
                    2019,
                    2020,
                    2020,
                    2017,
                    2019,
                    2016,
                    2018,
                    2017,
                    2020,
                    2020,
                    2016,
                    2020,
                    2019,
                    2021,
                    2020,
                    2017,
                    2019,
                    2020,
                    2018,
                    2015,
                    2018,
                    2020,
                    2020
                  ],
                  "xaxis": "x",
                  "yaxis": "y"
                }
              ],
              "layout": {
                "barmode": "relative",
                "legend": {
                  "tracegroupgap": 0
                },
                "margin": {
                  "t": 60
                },
                "template": {
                  "data": {
                    "bar": [
                      {
                        "error_x": {
                          "color": "#2a3f5f"
                        },
                        "error_y": {
                          "color": "#2a3f5f"
                        },
                        "marker": {
                          "line": {
                            "color": "#E5ECF6",
                            "width": 0.5
                          },
                          "pattern": {
                            "fillmode": "overlay",
                            "size": 10,
                            "solidity": 0.2
                          }
                        },
                        "type": "bar"
                      }
                    ],
                    "barpolar": [
                      {
                        "marker": {
                          "line": {
                            "color": "#E5ECF6",
                            "width": 0.5
                          },
                          "pattern": {
                            "fillmode": "overlay",
                            "size": 10,
                            "solidity": 0.2
                          }
                        },
                        "type": "barpolar"
                      }
                    ],
                    "carpet": [
                      {
                        "aaxis": {
                          "endlinecolor": "#2a3f5f",
                          "gridcolor": "white",
                          "linecolor": "white",
                          "minorgridcolor": "white",
                          "startlinecolor": "#2a3f5f"
                        },
                        "baxis": {
                          "endlinecolor": "#2a3f5f",
                          "gridcolor": "white",
                          "linecolor": "white",
                          "minorgridcolor": "white",
                          "startlinecolor": "#2a3f5f"
                        },
                        "type": "carpet"
                      }
                    ],
                    "choropleth": [
                      {
                        "colorbar": {
                          "outlinewidth": 0,
                          "ticks": ""
                        },
                        "type": "choropleth"
                      }
                    ],
                    "contour": [
                      {
                        "colorbar": {
                          "outlinewidth": 0,
                          "ticks": ""
                        },
                        "colorscale": [
                          [
                            0,
                            "#0d0887"
                          ],
                          [
                            0.1111111111111111,
                            "#46039f"
                          ],
                          [
                            0.2222222222222222,
                            "#7201a8"
                          ],
                          [
                            0.3333333333333333,
                            "#9c179e"
                          ],
                          [
                            0.4444444444444444,
                            "#bd3786"
                          ],
                          [
                            0.5555555555555556,
                            "#d8576b"
                          ],
                          [
                            0.6666666666666666,
                            "#ed7953"
                          ],
                          [
                            0.7777777777777778,
                            "#fb9f3a"
                          ],
                          [
                            0.8888888888888888,
                            "#fdca26"
                          ],
                          [
                            1,
                            "#f0f921"
                          ]
                        ],
                        "type": "contour"
                      }
                    ],
                    "contourcarpet": [
                      {
                        "colorbar": {
                          "outlinewidth": 0,
                          "ticks": ""
                        },
                        "type": "contourcarpet"
                      }
                    ],
                    "heatmap": [
                      {
                        "colorbar": {
                          "outlinewidth": 0,
                          "ticks": ""
                        },
                        "colorscale": [
                          [
                            0,
                            "#0d0887"
                          ],
                          [
                            0.1111111111111111,
                            "#46039f"
                          ],
                          [
                            0.2222222222222222,
                            "#7201a8"
                          ],
                          [
                            0.3333333333333333,
                            "#9c179e"
                          ],
                          [
                            0.4444444444444444,
                            "#bd3786"
                          ],
                          [
                            0.5555555555555556,
                            "#d8576b"
                          ],
                          [
                            0.6666666666666666,
                            "#ed7953"
                          ],
                          [
                            0.7777777777777778,
                            "#fb9f3a"
                          ],
                          [
                            0.8888888888888888,
                            "#fdca26"
                          ],
                          [
                            1,
                            "#f0f921"
                          ]
                        ],
                        "type": "heatmap"
                      }
                    ],
                    "heatmapgl": [
                      {
                        "colorbar": {
                          "outlinewidth": 0,
                          "ticks": ""
                        },
                        "colorscale": [
                          [
                            0,
                            "#0d0887"
                          ],
                          [
                            0.1111111111111111,
                            "#46039f"
                          ],
                          [
                            0.2222222222222222,
                            "#7201a8"
                          ],
                          [
                            0.3333333333333333,
                            "#9c179e"
                          ],
                          [
                            0.4444444444444444,
                            "#bd3786"
                          ],
                          [
                            0.5555555555555556,
                            "#d8576b"
                          ],
                          [
                            0.6666666666666666,
                            "#ed7953"
                          ],
                          [
                            0.7777777777777778,
                            "#fb9f3a"
                          ],
                          [
                            0.8888888888888888,
                            "#fdca26"
                          ],
                          [
                            1,
                            "#f0f921"
                          ]
                        ],
                        "type": "heatmapgl"
                      }
                    ],
                    "histogram": [
                      {
                        "marker": {
                          "pattern": {
                            "fillmode": "overlay",
                            "size": 10,
                            "solidity": 0.2
                          }
                        },
                        "type": "histogram"
                      }
                    ],
                    "histogram2d": [
                      {
                        "colorbar": {
                          "outlinewidth": 0,
                          "ticks": ""
                        },
                        "colorscale": [
                          [
                            0,
                            "#0d0887"
                          ],
                          [
                            0.1111111111111111,
                            "#46039f"
                          ],
                          [
                            0.2222222222222222,
                            "#7201a8"
                          ],
                          [
                            0.3333333333333333,
                            "#9c179e"
                          ],
                          [
                            0.4444444444444444,
                            "#bd3786"
                          ],
                          [
                            0.5555555555555556,
                            "#d8576b"
                          ],
                          [
                            0.6666666666666666,
                            "#ed7953"
                          ],
                          [
                            0.7777777777777778,
                            "#fb9f3a"
                          ],
                          [
                            0.8888888888888888,
                            "#fdca26"
                          ],
                          [
                            1,
                            "#f0f921"
                          ]
                        ],
                        "type": "histogram2d"
                      }
                    ],
                    "histogram2dcontour": [
                      {
                        "colorbar": {
                          "outlinewidth": 0,
                          "ticks": ""
                        },
                        "colorscale": [
                          [
                            0,
                            "#0d0887"
                          ],
                          [
                            0.1111111111111111,
                            "#46039f"
                          ],
                          [
                            0.2222222222222222,
                            "#7201a8"
                          ],
                          [
                            0.3333333333333333,
                            "#9c179e"
                          ],
                          [
                            0.4444444444444444,
                            "#bd3786"
                          ],
                          [
                            0.5555555555555556,
                            "#d8576b"
                          ],
                          [
                            0.6666666666666666,
                            "#ed7953"
                          ],
                          [
                            0.7777777777777778,
                            "#fb9f3a"
                          ],
                          [
                            0.8888888888888888,
                            "#fdca26"
                          ],
                          [
                            1,
                            "#f0f921"
                          ]
                        ],
                        "type": "histogram2dcontour"
                      }
                    ],
                    "mesh3d": [
                      {
                        "colorbar": {
                          "outlinewidth": 0,
                          "ticks": ""
                        },
                        "type": "mesh3d"
                      }
                    ],
                    "parcoords": [
                      {
                        "line": {
                          "colorbar": {
                            "outlinewidth": 0,
                            "ticks": ""
                          }
                        },
                        "type": "parcoords"
                      }
                    ],
                    "pie": [
                      {
                        "automargin": true,
                        "type": "pie"
                      }
                    ],
                    "scatter": [
                      {
                        "fillpattern": {
                          "fillmode": "overlay",
                          "size": 10,
                          "solidity": 0.2
                        },
                        "type": "scatter"
                      }
                    ],
                    "scatter3d": [
                      {
                        "line": {
                          "colorbar": {
                            "outlinewidth": 0,
                            "ticks": ""
                          }
                        },
                        "marker": {
                          "colorbar": {
                            "outlinewidth": 0,
                            "ticks": ""
                          }
                        },
                        "type": "scatter3d"
                      }
                    ],
                    "scattercarpet": [
                      {
                        "marker": {
                          "colorbar": {
                            "outlinewidth": 0,
                            "ticks": ""
                          }
                        },
                        "type": "scattercarpet"
                      }
                    ],
                    "scattergeo": [
                      {
                        "marker": {
                          "colorbar": {
                            "outlinewidth": 0,
                            "ticks": ""
                          }
                        },
                        "type": "scattergeo"
                      }
                    ],
                    "scattergl": [
                      {
                        "marker": {
                          "colorbar": {
                            "outlinewidth": 0,
                            "ticks": ""
                          }
                        },
                        "type": "scattergl"
                      }
                    ],
                    "scattermapbox": [
                      {
                        "marker": {
                          "colorbar": {
                            "outlinewidth": 0,
                            "ticks": ""
                          }
                        },
                        "type": "scattermapbox"
                      }
                    ],
                    "scatterpolar": [
                      {
                        "marker": {
                          "colorbar": {
                            "outlinewidth": 0,
                            "ticks": ""
                          }
                        },
                        "type": "scatterpolar"
                      }
                    ],
                    "scatterpolargl": [
                      {
                        "marker": {
                          "colorbar": {
                            "outlinewidth": 0,
                            "ticks": ""
                          }
                        },
                        "type": "scatterpolargl"
                      }
                    ],
                    "scatterternary": [
                      {
                        "marker": {
                          "colorbar": {
                            "outlinewidth": 0,
                            "ticks": ""
                          }
                        },
                        "type": "scatterternary"
                      }
                    ],
                    "surface": [
                      {
                        "colorbar": {
                          "outlinewidth": 0,
                          "ticks": ""
                        },
                        "colorscale": [
                          [
                            0,
                            "#0d0887"
                          ],
                          [
                            0.1111111111111111,
                            "#46039f"
                          ],
                          [
                            0.2222222222222222,
                            "#7201a8"
                          ],
                          [
                            0.3333333333333333,
                            "#9c179e"
                          ],
                          [
                            0.4444444444444444,
                            "#bd3786"
                          ],
                          [
                            0.5555555555555556,
                            "#d8576b"
                          ],
                          [
                            0.6666666666666666,
                            "#ed7953"
                          ],
                          [
                            0.7777777777777778,
                            "#fb9f3a"
                          ],
                          [
                            0.8888888888888888,
                            "#fdca26"
                          ],
                          [
                            1,
                            "#f0f921"
                          ]
                        ],
                        "type": "surface"
                      }
                    ],
                    "table": [
                      {
                        "cells": {
                          "fill": {
                            "color": "#EBF0F8"
                          },
                          "line": {
                            "color": "white"
                          }
                        },
                        "header": {
                          "fill": {
                            "color": "#C8D4E3"
                          },
                          "line": {
                            "color": "white"
                          }
                        },
                        "type": "table"
                      }
                    ]
                  },
                  "layout": {
                    "annotationdefaults": {
                      "arrowcolor": "#2a3f5f",
                      "arrowhead": 0,
                      "arrowwidth": 1
                    },
                    "autotypenumbers": "strict",
                    "coloraxis": {
                      "colorbar": {
                        "outlinewidth": 0,
                        "ticks": ""
                      }
                    },
                    "colorscale": {
                      "diverging": [
                        [
                          0,
                          "#8e0152"
                        ],
                        [
                          0.1,
                          "#c51b7d"
                        ],
                        [
                          0.2,
                          "#de77ae"
                        ],
                        [
                          0.3,
                          "#f1b6da"
                        ],
                        [
                          0.4,
                          "#fde0ef"
                        ],
                        [
                          0.5,
                          "#f7f7f7"
                        ],
                        [
                          0.6,
                          "#e6f5d0"
                        ],
                        [
                          0.7,
                          "#b8e186"
                        ],
                        [
                          0.8,
                          "#7fbc41"
                        ],
                        [
                          0.9,
                          "#4d9221"
                        ],
                        [
                          1,
                          "#276419"
                        ]
                      ],
                      "sequential": [
                        [
                          0,
                          "#0d0887"
                        ],
                        [
                          0.1111111111111111,
                          "#46039f"
                        ],
                        [
                          0.2222222222222222,
                          "#7201a8"
                        ],
                        [
                          0.3333333333333333,
                          "#9c179e"
                        ],
                        [
                          0.4444444444444444,
                          "#bd3786"
                        ],
                        [
                          0.5555555555555556,
                          "#d8576b"
                        ],
                        [
                          0.6666666666666666,
                          "#ed7953"
                        ],
                        [
                          0.7777777777777778,
                          "#fb9f3a"
                        ],
                        [
                          0.8888888888888888,
                          "#fdca26"
                        ],
                        [
                          1,
                          "#f0f921"
                        ]
                      ],
                      "sequentialminus": [
                        [
                          0,
                          "#0d0887"
                        ],
                        [
                          0.1111111111111111,
                          "#46039f"
                        ],
                        [
                          0.2222222222222222,
                          "#7201a8"
                        ],
                        [
                          0.3333333333333333,
                          "#9c179e"
                        ],
                        [
                          0.4444444444444444,
                          "#bd3786"
                        ],
                        [
                          0.5555555555555556,
                          "#d8576b"
                        ],
                        [
                          0.6666666666666666,
                          "#ed7953"
                        ],
                        [
                          0.7777777777777778,
                          "#fb9f3a"
                        ],
                        [
                          0.8888888888888888,
                          "#fdca26"
                        ],
                        [
                          1,
                          "#f0f921"
                        ]
                      ]
                    },
                    "colorway": [
                      "#636efa",
                      "#EF553B",
                      "#00cc96",
                      "#ab63fa",
                      "#FFA15A",
                      "#19d3f3",
                      "#FF6692",
                      "#B6E880",
                      "#FF97FF",
                      "#FECB52"
                    ],
                    "font": {
                      "color": "#2a3f5f"
                    },
                    "geo": {
                      "bgcolor": "white",
                      "lakecolor": "white",
                      "landcolor": "#E5ECF6",
                      "showlakes": true,
                      "showland": true,
                      "subunitcolor": "white"
                    },
                    "hoverlabel": {
                      "align": "left"
                    },
                    "hovermode": "closest",
                    "mapbox": {
                      "style": "light"
                    },
                    "paper_bgcolor": "white",
                    "plot_bgcolor": "#E5ECF6",
                    "polar": {
                      "angularaxis": {
                        "gridcolor": "white",
                        "linecolor": "white",
                        "ticks": ""
                      },
                      "bgcolor": "#E5ECF6",
                      "radialaxis": {
                        "gridcolor": "white",
                        "linecolor": "white",
                        "ticks": ""
                      }
                    },
                    "scene": {
                      "xaxis": {
                        "backgroundcolor": "#E5ECF6",
                        "gridcolor": "white",
                        "gridwidth": 2,
                        "linecolor": "white",
                        "showbackground": true,
                        "ticks": "",
                        "zerolinecolor": "white"
                      },
                      "yaxis": {
                        "backgroundcolor": "#E5ECF6",
                        "gridcolor": "white",
                        "gridwidth": 2,
                        "linecolor": "white",
                        "showbackground": true,
                        "ticks": "",
                        "zerolinecolor": "white"
                      },
                      "zaxis": {
                        "backgroundcolor": "#E5ECF6",
                        "gridcolor": "white",
                        "gridwidth": 2,
                        "linecolor": "white",
                        "showbackground": true,
                        "ticks": "",
                        "zerolinecolor": "white"
                      }
                    },
                    "shapedefaults": {
                      "line": {
                        "color": "#2a3f5f"
                      }
                    },
                    "ternary": {
                      "aaxis": {
                        "gridcolor": "white",
                        "linecolor": "white",
                        "ticks": ""
                      },
                      "baxis": {
                        "gridcolor": "white",
                        "linecolor": "white",
                        "ticks": ""
                      },
                      "bgcolor": "#E5ECF6",
                      "caxis": {
                        "gridcolor": "white",
                        "linecolor": "white",
                        "ticks": ""
                      }
                    },
                    "title": {
                      "x": 0.05
                    },
                    "xaxis": {
                      "automargin": true,
                      "gridcolor": "white",
                      "linecolor": "white",
                      "ticks": "",
                      "title": {
                        "standoff": 15
                      },
                      "zerolinecolor": "white",
                      "zerolinewidth": 2
                    },
                    "yaxis": {
                      "automargin": true,
                      "gridcolor": "white",
                      "linecolor": "white",
                      "ticks": "",
                      "title": {
                        "standoff": 15
                      },
                      "zerolinecolor": "white",
                      "zerolinewidth": 2
                    }
                  }
                },
                "xaxis": {
                  "anchor": "y",
                  "domain": [
                    0,
                    1
                  ],
                  "title": {
                    "text": "Premiere Year"
                  }
                },
                "yaxis": {
                  "anchor": "x",
                  "domain": [
                    0,
                    1
                  ],
                  "title": {
                    "text": "count"
                  }
                }
              }
            }
          },
          "metadata": {},
          "output_type": "display_data"
        }
      ],
      "source": [
        "fig3 = px.histogram(data, x= 'Premiere Year')\n",
        "fig3.show()"
      ]
    },
    {
      "cell_type": "markdown",
      "metadata": {},
      "source": [
        "Runtime'da outlier veri bulunmaktadır."
      ]
    }
  ],
  "metadata": {
    "colab": {
      "collapsed_sections": [
        "PxUxnHgJQz_g",
        "F3wJw81yP_RQ",
        "woKkXEsvQtCh",
        "HzMtFqvrSU3f"
      ],
      "name": "A_K_K_Proje2.ipynb",
      "provenance": [],
      "toc_visible": true
    },
    "kernelspec": {
      "display_name": "Python 3.10.5 64-bit",
      "language": "python",
      "name": "python3"
    },
    "language_info": {
      "codemirror_mode": {
        "name": "ipython",
        "version": 3
      },
      "file_extension": ".py",
      "mimetype": "text/x-python",
      "name": "python",
      "nbconvert_exporter": "python",
      "pygments_lexer": "ipython3",
      "version": "3.10.5"
    },
    "vscode": {
      "interpreter": {
        "hash": "027efd7095115064582efab50921964d678032cf36f1ec215c675cf4ffc5e6b9"
      }
    }
  },
  "nbformat": 4,
  "nbformat_minor": 0
}
